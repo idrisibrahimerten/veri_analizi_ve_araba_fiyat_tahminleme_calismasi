{
 "cells": [
  {
   "cell_type": "markdown",
   "id": "95cb7ade",
   "metadata": {},
   "source": [
    "# Veri Analizi ve Araba Fiyat Tahminleme Çalışması"
   ]
  },
  {
   "cell_type": "markdown",
   "id": "73041dee",
   "metadata": {},
   "source": [
    "#### Veri bilimcilerin kullanması gereken platform: https://www.kaggle.com\n"
   ]
  },
  {
   "cell_type": "markdown",
   "id": "0e723f97",
   "metadata": {},
   "source": [
    "## Veri Analizi"
   ]
  },
  {
   "cell_type": "code",
   "execution_count": 1,
   "id": "b6c6a7f9",
   "metadata": {},
   "outputs": [],
   "source": [
    "import seaborn as sbn\n",
    "import pandas as pd\n",
    "import numpy as np\n",
    "import matplotlib.pyplot as plt"
   ]
  },
  {
   "cell_type": "code",
   "execution_count": 2,
   "id": "d6eccdc0",
   "metadata": {},
   "outputs": [],
   "source": [
    "data = pd.read_excel(\"merc.xlsx\")"
   ]
  },
  {
   "cell_type": "code",
   "execution_count": 5,
   "id": "9b4574c8",
   "metadata": {},
   "outputs": [
    {
     "data": {
      "text/html": [
       "<div>\n",
       "<style scoped>\n",
       "    .dataframe tbody tr th:only-of-type {\n",
       "        vertical-align: middle;\n",
       "    }\n",
       "\n",
       "    .dataframe tbody tr th {\n",
       "        vertical-align: top;\n",
       "    }\n",
       "\n",
       "    .dataframe thead th {\n",
       "        text-align: right;\n",
       "    }\n",
       "</style>\n",
       "<table border=\"1\" class=\"dataframe\">\n",
       "  <thead>\n",
       "    <tr style=\"text-align: right;\">\n",
       "      <th></th>\n",
       "      <th>year</th>\n",
       "      <th>price</th>\n",
       "      <th>transmission</th>\n",
       "      <th>mileage</th>\n",
       "      <th>tax</th>\n",
       "      <th>mpg</th>\n",
       "      <th>engineSize</th>\n",
       "    </tr>\n",
       "  </thead>\n",
       "  <tbody>\n",
       "    <tr>\n",
       "      <th>0</th>\n",
       "      <td>2005</td>\n",
       "      <td>5200</td>\n",
       "      <td>Automatic</td>\n",
       "      <td>63000</td>\n",
       "      <td>325</td>\n",
       "      <td>32.1</td>\n",
       "      <td>1.8</td>\n",
       "    </tr>\n",
       "    <tr>\n",
       "      <th>1</th>\n",
       "      <td>2017</td>\n",
       "      <td>34948</td>\n",
       "      <td>Automatic</td>\n",
       "      <td>27000</td>\n",
       "      <td>20</td>\n",
       "      <td>61.4</td>\n",
       "      <td>2.1</td>\n",
       "    </tr>\n",
       "    <tr>\n",
       "      <th>2</th>\n",
       "      <td>2016</td>\n",
       "      <td>49948</td>\n",
       "      <td>Automatic</td>\n",
       "      <td>6200</td>\n",
       "      <td>555</td>\n",
       "      <td>28.0</td>\n",
       "      <td>5.5</td>\n",
       "    </tr>\n",
       "    <tr>\n",
       "      <th>3</th>\n",
       "      <td>2016</td>\n",
       "      <td>61948</td>\n",
       "      <td>Automatic</td>\n",
       "      <td>16000</td>\n",
       "      <td>325</td>\n",
       "      <td>30.4</td>\n",
       "      <td>4.0</td>\n",
       "    </tr>\n",
       "    <tr>\n",
       "      <th>4</th>\n",
       "      <td>2016</td>\n",
       "      <td>73948</td>\n",
       "      <td>Automatic</td>\n",
       "      <td>4000</td>\n",
       "      <td>325</td>\n",
       "      <td>30.1</td>\n",
       "      <td>4.0</td>\n",
       "    </tr>\n",
       "  </tbody>\n",
       "</table>\n",
       "</div>"
      ],
      "text/plain": [
       "   year  price transmission  mileage  tax   mpg  engineSize\n",
       "0  2005   5200    Automatic    63000  325  32.1         1.8\n",
       "1  2017  34948    Automatic    27000   20  61.4         2.1\n",
       "2  2016  49948    Automatic     6200  555  28.0         5.5\n",
       "3  2016  61948    Automatic    16000  325  30.4         4.0\n",
       "4  2016  73948    Automatic     4000  325  30.1         4.0"
      ]
     },
     "execution_count": 5,
     "metadata": {},
     "output_type": "execute_result"
    }
   ],
   "source": [
    "data.head()"
   ]
  },
  {
   "cell_type": "code",
   "execution_count": 6,
   "id": "6ee6a2d0",
   "metadata": {},
   "outputs": [
    {
     "data": {
      "text/html": [
       "<div>\n",
       "<style scoped>\n",
       "    .dataframe tbody tr th:only-of-type {\n",
       "        vertical-align: middle;\n",
       "    }\n",
       "\n",
       "    .dataframe tbody tr th {\n",
       "        vertical-align: top;\n",
       "    }\n",
       "\n",
       "    .dataframe thead th {\n",
       "        text-align: right;\n",
       "    }\n",
       "</style>\n",
       "<table border=\"1\" class=\"dataframe\">\n",
       "  <thead>\n",
       "    <tr style=\"text-align: right;\">\n",
       "      <th></th>\n",
       "      <th>year</th>\n",
       "      <th>price</th>\n",
       "      <th>mileage</th>\n",
       "      <th>tax</th>\n",
       "      <th>mpg</th>\n",
       "      <th>engineSize</th>\n",
       "    </tr>\n",
       "  </thead>\n",
       "  <tbody>\n",
       "    <tr>\n",
       "      <th>count</th>\n",
       "      <td>13119.000000</td>\n",
       "      <td>13119.000000</td>\n",
       "      <td>13119.000000</td>\n",
       "      <td>13119.000000</td>\n",
       "      <td>13119.000000</td>\n",
       "      <td>13119.000000</td>\n",
       "    </tr>\n",
       "    <tr>\n",
       "      <th>mean</th>\n",
       "      <td>2017.296288</td>\n",
       "      <td>24698.596920</td>\n",
       "      <td>21949.559037</td>\n",
       "      <td>129.972178</td>\n",
       "      <td>55.155843</td>\n",
       "      <td>2.071530</td>\n",
       "    </tr>\n",
       "    <tr>\n",
       "      <th>std</th>\n",
       "      <td>2.224709</td>\n",
       "      <td>11842.675542</td>\n",
       "      <td>21176.512267</td>\n",
       "      <td>65.260286</td>\n",
       "      <td>15.220082</td>\n",
       "      <td>0.572426</td>\n",
       "    </tr>\n",
       "    <tr>\n",
       "      <th>min</th>\n",
       "      <td>1970.000000</td>\n",
       "      <td>650.000000</td>\n",
       "      <td>1.000000</td>\n",
       "      <td>0.000000</td>\n",
       "      <td>1.100000</td>\n",
       "      <td>0.000000</td>\n",
       "    </tr>\n",
       "    <tr>\n",
       "      <th>25%</th>\n",
       "      <td>2016.000000</td>\n",
       "      <td>17450.000000</td>\n",
       "      <td>6097.500000</td>\n",
       "      <td>125.000000</td>\n",
       "      <td>45.600000</td>\n",
       "      <td>1.800000</td>\n",
       "    </tr>\n",
       "    <tr>\n",
       "      <th>50%</th>\n",
       "      <td>2018.000000</td>\n",
       "      <td>22480.000000</td>\n",
       "      <td>15189.000000</td>\n",
       "      <td>145.000000</td>\n",
       "      <td>56.500000</td>\n",
       "      <td>2.000000</td>\n",
       "    </tr>\n",
       "    <tr>\n",
       "      <th>75%</th>\n",
       "      <td>2019.000000</td>\n",
       "      <td>28980.000000</td>\n",
       "      <td>31779.500000</td>\n",
       "      <td>145.000000</td>\n",
       "      <td>64.200000</td>\n",
       "      <td>2.100000</td>\n",
       "    </tr>\n",
       "    <tr>\n",
       "      <th>max</th>\n",
       "      <td>2020.000000</td>\n",
       "      <td>159999.000000</td>\n",
       "      <td>259000.000000</td>\n",
       "      <td>580.000000</td>\n",
       "      <td>217.300000</td>\n",
       "      <td>6.200000</td>\n",
       "    </tr>\n",
       "  </tbody>\n",
       "</table>\n",
       "</div>"
      ],
      "text/plain": [
       "               year          price        mileage           tax           mpg  \\\n",
       "count  13119.000000   13119.000000   13119.000000  13119.000000  13119.000000   \n",
       "mean    2017.296288   24698.596920   21949.559037    129.972178     55.155843   \n",
       "std        2.224709   11842.675542   21176.512267     65.260286     15.220082   \n",
       "min     1970.000000     650.000000       1.000000      0.000000      1.100000   \n",
       "25%     2016.000000   17450.000000    6097.500000    125.000000     45.600000   \n",
       "50%     2018.000000   22480.000000   15189.000000    145.000000     56.500000   \n",
       "75%     2019.000000   28980.000000   31779.500000    145.000000     64.200000   \n",
       "max     2020.000000  159999.000000  259000.000000    580.000000    217.300000   \n",
       "\n",
       "         engineSize  \n",
       "count  13119.000000  \n",
       "mean       2.071530  \n",
       "std        0.572426  \n",
       "min        0.000000  \n",
       "25%        1.800000  \n",
       "50%        2.000000  \n",
       "75%        2.100000  \n",
       "max        6.200000  "
      ]
     },
     "execution_count": 6,
     "metadata": {},
     "output_type": "execute_result"
    }
   ],
   "source": [
    "data.describe()"
   ]
  },
  {
   "cell_type": "markdown",
   "id": "fc210c27",
   "metadata": {},
   "source": [
    "#### veri seti içinde null değer var mı? Kontrol edilmelidir."
   ]
  },
  {
   "cell_type": "code",
   "execution_count": 11,
   "id": "30c39cbf",
   "metadata": {},
   "outputs": [
    {
     "data": {
      "text/plain": [
       "year            0\n",
       "price           0\n",
       "transmission    0\n",
       "mileage         0\n",
       "tax             0\n",
       "mpg             0\n",
       "engineSize      0\n",
       "dtype: int64"
      ]
     },
     "execution_count": 11,
     "metadata": {},
     "output_type": "execute_result"
    }
   ],
   "source": [
    "data.isnull().sum()"
   ]
  },
  {
   "cell_type": "markdown",
   "id": "881e25aa",
   "metadata": {},
   "source": [
    "## Grafik Ile Analiz"
   ]
  },
  {
   "cell_type": "code",
   "execution_count": 23,
   "id": "49177bfc",
   "metadata": {},
   "outputs": [
    {
     "data": {
      "text/plain": [
       "<seaborn.axisgrid.FacetGrid at 0x7fd2b8158350>"
      ]
     },
     "execution_count": 23,
     "metadata": {},
     "output_type": "execute_result"
    },
    {
     "data": {
      "text/plain": [
       "<Figure size 504x360 with 0 Axes>"
      ]
     },
     "metadata": {},
     "output_type": "display_data"
    },
    {
     "data": {
      "image/png": "[encoded data removed]",
      "text/plain": [
       "<Figure size 360x360 with 1 Axes>"
      ]
     },
     "metadata": {
      "needs_background": "light"
     },
     "output_type": "display_data"
    }
   ],
   "source": [
    "plt.figure(figsize=(7,5))\n",
    "sbn.displot(data[\"price\"])"
   ]
  },
  {
   "cell_type": "code",
   "execution_count": 25,
   "id": "65ba1dec",
   "metadata": {},
   "outputs": [
    {
     "name": "stderr",
     "output_type": "stream",
     "text": [
      "/opt/anaconda3/envs/veriBilimi/lib/python3.7/site-packages/seaborn/_decorators.py:43: FutureWarning: Pass the following variable as a keyword arg: x. From version 0.12, the only valid positional argument will be `data`, and passing other arguments without an explicit keyword will result in an error or misinterpretation.\n",
      "  FutureWarning\n"
     ]
    },
    {
     "data": {
      "text/plain": [
       "<AxesSubplot:xlabel='year', ylabel='count'>"
      ]
     },
     "execution_count": 25,
     "metadata": {},
     "output_type": "execute_result"
    },
    {
     "data": {
      "image/png": "[encoded data removed]",
      "text/plain": [
       "<Figure size 432x288 with 1 Axes>"
      ]
     },
     "metadata": {
      "needs_background": "light"
     },
     "output_type": "display_data"
    }
   ],
   "source": [
    "sbn.countplot(data[\"year\"])"
   ]
  },
  {
   "cell_type": "markdown",
   "id": "9ed1be4c",
   "metadata": {},
   "source": [
    "## Veriler Arası Korelasyon Incelenmeli"
   ]
  },
  {
   "cell_type": "code",
   "execution_count": 27,
   "id": "21a36492",
   "metadata": {},
   "outputs": [
    {
     "data": {
      "text/html": [
       "<div>\n",
       "<style scoped>\n",
       "    .dataframe tbody tr th:only-of-type {\n",
       "        vertical-align: middle;\n",
       "    }\n",
       "\n",
       "    .dataframe tbody tr th {\n",
       "        vertical-align: top;\n",
       "    }\n",
       "\n",
       "    .dataframe thead th {\n",
       "        text-align: right;\n",
       "    }\n",
       "</style>\n",
       "<table border=\"1\" class=\"dataframe\">\n",
       "  <thead>\n",
       "    <tr style=\"text-align: right;\">\n",
       "      <th></th>\n",
       "      <th>year</th>\n",
       "      <th>price</th>\n",
       "      <th>mileage</th>\n",
       "      <th>tax</th>\n",
       "      <th>mpg</th>\n",
       "      <th>engineSize</th>\n",
       "    </tr>\n",
       "  </thead>\n",
       "  <tbody>\n",
       "    <tr>\n",
       "      <th>year</th>\n",
       "      <td>1.000000</td>\n",
       "      <td>0.520712</td>\n",
       "      <td>-0.738027</td>\n",
       "      <td>0.012480</td>\n",
       "      <td>-0.094626</td>\n",
       "      <td>-0.142147</td>\n",
       "    </tr>\n",
       "    <tr>\n",
       "      <th>price</th>\n",
       "      <td>0.520712</td>\n",
       "      <td>1.000000</td>\n",
       "      <td>-0.537214</td>\n",
       "      <td>0.268717</td>\n",
       "      <td>-0.438445</td>\n",
       "      <td>0.516126</td>\n",
       "    </tr>\n",
       "    <tr>\n",
       "      <th>mileage</th>\n",
       "      <td>-0.738027</td>\n",
       "      <td>-0.537214</td>\n",
       "      <td>1.000000</td>\n",
       "      <td>-0.160223</td>\n",
       "      <td>0.202850</td>\n",
       "      <td>0.063652</td>\n",
       "    </tr>\n",
       "    <tr>\n",
       "      <th>tax</th>\n",
       "      <td>0.012480</td>\n",
       "      <td>0.268717</td>\n",
       "      <td>-0.160223</td>\n",
       "      <td>1.000000</td>\n",
       "      <td>-0.513742</td>\n",
       "      <td>0.338341</td>\n",
       "    </tr>\n",
       "    <tr>\n",
       "      <th>mpg</th>\n",
       "      <td>-0.094626</td>\n",
       "      <td>-0.438445</td>\n",
       "      <td>0.202850</td>\n",
       "      <td>-0.513742</td>\n",
       "      <td>1.000000</td>\n",
       "      <td>-0.339862</td>\n",
       "    </tr>\n",
       "    <tr>\n",
       "      <th>engineSize</th>\n",
       "      <td>-0.142147</td>\n",
       "      <td>0.516126</td>\n",
       "      <td>0.063652</td>\n",
       "      <td>0.338341</td>\n",
       "      <td>-0.339862</td>\n",
       "      <td>1.000000</td>\n",
       "    </tr>\n",
       "  </tbody>\n",
       "</table>\n",
       "</div>"
      ],
      "text/plain": [
       "                year     price   mileage       tax       mpg  engineSize\n",
       "year        1.000000  0.520712 -0.738027  0.012480 -0.094626   -0.142147\n",
       "price       0.520712  1.000000 -0.537214  0.268717 -0.438445    0.516126\n",
       "mileage    -0.738027 -0.537214  1.000000 -0.160223  0.202850    0.063652\n",
       "tax         0.012480  0.268717 -0.160223  1.000000 -0.513742    0.338341\n",
       "mpg        -0.094626 -0.438445  0.202850 -0.513742  1.000000   -0.339862\n",
       "engineSize -0.142147  0.516126  0.063652  0.338341 -0.339862    1.000000"
      ]
     },
     "execution_count": 27,
     "metadata": {},
     "output_type": "execute_result"
    }
   ],
   "source": [
    "data.corr()"
   ]
  },
  {
   "cell_type": "markdown",
   "id": "19f9c4b7",
   "metadata": {},
   "source": [
    "#### fiyat için korelasyon incelemesi;"
   ]
  },
  {
   "cell_type": "code",
   "execution_count": 29,
   "id": "b7739ad8",
   "metadata": {},
   "outputs": [
    {
     "data": {
      "text/plain": [
       "mileage      -0.537214\n",
       "mpg          -0.438445\n",
       "tax           0.268717\n",
       "engineSize    0.516126\n",
       "year          0.520712\n",
       "price         1.000000\n",
       "Name: price, dtype: float64"
      ]
     },
     "execution_count": 29,
     "metadata": {},
     "output_type": "execute_result"
    }
   ],
   "source": [
    "data.corr()[\"price\"].sort_values()"
   ]
  },
  {
   "cell_type": "code",
   "execution_count": 30,
   "id": "d0139e07",
   "metadata": {},
   "outputs": [
    {
     "data": {
      "text/plain": [
       "<AxesSubplot:xlabel='mileage', ylabel='price'>"
      ]
     },
     "execution_count": 30,
     "metadata": {},
     "output_type": "execute_result"
    },
    {
     "data": {
      "image/png": "[encoded data removed]",
      "text/plain": [
       "<Figure size 432x288 with 1 Axes>"
      ]
     },
     "metadata": {
      "needs_background": "light"
     },
     "output_type": "display_data"
    }
   ],
   "source": [
    "sbn.scatterplot(x=\"mileage\", y=\"price\", data=data)"
   ]
  },
  {
   "cell_type": "markdown",
   "id": "2f85ac87",
   "metadata": {},
   "source": [
    "## Fiyatları veya Değerleri Yükselen / Düşen Değerler Olarak Sıralama!"
   ]
  },
  {
   "cell_type": "code",
   "execution_count": 32,
   "id": "13b6c86e",
   "metadata": {},
   "outputs": [
    {
     "data": {
      "text/html": [
       "<div>\n",
       "<style scoped>\n",
       "    .dataframe tbody tr th:only-of-type {\n",
       "        vertical-align: middle;\n",
       "    }\n",
       "\n",
       "    .dataframe tbody tr th {\n",
       "        vertical-align: top;\n",
       "    }\n",
       "\n",
       "    .dataframe thead th {\n",
       "        text-align: right;\n",
       "    }\n",
       "</style>\n",
       "<table border=\"1\" class=\"dataframe\">\n",
       "  <thead>\n",
       "    <tr style=\"text-align: right;\">\n",
       "      <th></th>\n",
       "      <th>year</th>\n",
       "      <th>price</th>\n",
       "      <th>transmission</th>\n",
       "      <th>mileage</th>\n",
       "      <th>tax</th>\n",
       "      <th>mpg</th>\n",
       "      <th>engineSize</th>\n",
       "    </tr>\n",
       "  </thead>\n",
       "  <tbody>\n",
       "    <tr>\n",
       "      <th>6199</th>\n",
       "      <td>2020</td>\n",
       "      <td>159999</td>\n",
       "      <td>Semi-Auto</td>\n",
       "      <td>1350</td>\n",
       "      <td>145</td>\n",
       "      <td>21.4</td>\n",
       "      <td>4.0</td>\n",
       "    </tr>\n",
       "    <tr>\n",
       "      <th>10044</th>\n",
       "      <td>2020</td>\n",
       "      <td>154998</td>\n",
       "      <td>Automatic</td>\n",
       "      <td>3000</td>\n",
       "      <td>150</td>\n",
       "      <td>21.4</td>\n",
       "      <td>4.0</td>\n",
       "    </tr>\n",
       "    <tr>\n",
       "      <th>5</th>\n",
       "      <td>2011</td>\n",
       "      <td>149948</td>\n",
       "      <td>Automatic</td>\n",
       "      <td>3000</td>\n",
       "      <td>570</td>\n",
       "      <td>21.4</td>\n",
       "      <td>6.2</td>\n",
       "    </tr>\n",
       "    <tr>\n",
       "      <th>8737</th>\n",
       "      <td>2019</td>\n",
       "      <td>140319</td>\n",
       "      <td>Semi-Auto</td>\n",
       "      <td>785</td>\n",
       "      <td>150</td>\n",
       "      <td>22.1</td>\n",
       "      <td>4.0</td>\n",
       "    </tr>\n",
       "    <tr>\n",
       "      <th>6386</th>\n",
       "      <td>2018</td>\n",
       "      <td>139995</td>\n",
       "      <td>Semi-Auto</td>\n",
       "      <td>13046</td>\n",
       "      <td>145</td>\n",
       "      <td>21.4</td>\n",
       "      <td>4.0</td>\n",
       "    </tr>\n",
       "    <tr>\n",
       "      <th>8</th>\n",
       "      <td>2019</td>\n",
       "      <td>139948</td>\n",
       "      <td>Automatic</td>\n",
       "      <td>12000</td>\n",
       "      <td>145</td>\n",
       "      <td>21.4</td>\n",
       "      <td>4.0</td>\n",
       "    </tr>\n",
       "    <tr>\n",
       "      <th>9133</th>\n",
       "      <td>2019</td>\n",
       "      <td>139559</td>\n",
       "      <td>Semi-Auto</td>\n",
       "      <td>1000</td>\n",
       "      <td>145</td>\n",
       "      <td>22.1</td>\n",
       "      <td>4.0</td>\n",
       "    </tr>\n",
       "    <tr>\n",
       "      <th>8821</th>\n",
       "      <td>2020</td>\n",
       "      <td>138439</td>\n",
       "      <td>Semi-Auto</td>\n",
       "      <td>1000</td>\n",
       "      <td>145</td>\n",
       "      <td>22.1</td>\n",
       "      <td>4.0</td>\n",
       "    </tr>\n",
       "    <tr>\n",
       "      <th>5902</th>\n",
       "      <td>2018</td>\n",
       "      <td>135771</td>\n",
       "      <td>Semi-Auto</td>\n",
       "      <td>19000</td>\n",
       "      <td>145</td>\n",
       "      <td>21.4</td>\n",
       "      <td>4.0</td>\n",
       "    </tr>\n",
       "    <tr>\n",
       "      <th>7864</th>\n",
       "      <td>2018</td>\n",
       "      <td>135124</td>\n",
       "      <td>Semi-Auto</td>\n",
       "      <td>18234</td>\n",
       "      <td>150</td>\n",
       "      <td>21.4</td>\n",
       "      <td>4.0</td>\n",
       "    </tr>\n",
       "    <tr>\n",
       "      <th>8673</th>\n",
       "      <td>2019</td>\n",
       "      <td>134219</td>\n",
       "      <td>Semi-Auto</td>\n",
       "      <td>1000</td>\n",
       "      <td>145</td>\n",
       "      <td>24.8</td>\n",
       "      <td>4.0</td>\n",
       "    </tr>\n",
       "    <tr>\n",
       "      <th>6210</th>\n",
       "      <td>2019</td>\n",
       "      <td>129990</td>\n",
       "      <td>Automatic</td>\n",
       "      <td>1000</td>\n",
       "      <td>145</td>\n",
       "      <td>24.8</td>\n",
       "      <td>4.0</td>\n",
       "    </tr>\n",
       "    <tr>\n",
       "      <th>4759</th>\n",
       "      <td>2019</td>\n",
       "      <td>126000</td>\n",
       "      <td>Automatic</td>\n",
       "      <td>250</td>\n",
       "      <td>145</td>\n",
       "      <td>24.6</td>\n",
       "      <td>4.0</td>\n",
       "    </tr>\n",
       "    <tr>\n",
       "      <th>2647</th>\n",
       "      <td>2019</td>\n",
       "      <td>125796</td>\n",
       "      <td>Automatic</td>\n",
       "      <td>637</td>\n",
       "      <td>145</td>\n",
       "      <td>24.8</td>\n",
       "      <td>4.0</td>\n",
       "    </tr>\n",
       "    <tr>\n",
       "      <th>6223</th>\n",
       "      <td>2019</td>\n",
       "      <td>124999</td>\n",
       "      <td>Automatic</td>\n",
       "      <td>1500</td>\n",
       "      <td>145</td>\n",
       "      <td>31.7</td>\n",
       "      <td>4.0</td>\n",
       "    </tr>\n",
       "    <tr>\n",
       "      <th>4094</th>\n",
       "      <td>2019</td>\n",
       "      <td>124366</td>\n",
       "      <td>Semi-Auto</td>\n",
       "      <td>880</td>\n",
       "      <td>145</td>\n",
       "      <td>24.8</td>\n",
       "      <td>4.0</td>\n",
       "    </tr>\n",
       "    <tr>\n",
       "      <th>2629</th>\n",
       "      <td>2019</td>\n",
       "      <td>123846</td>\n",
       "      <td>Semi-Auto</td>\n",
       "      <td>2951</td>\n",
       "      <td>145</td>\n",
       "      <td>22.1</td>\n",
       "      <td>4.0</td>\n",
       "    </tr>\n",
       "    <tr>\n",
       "      <th>7134</th>\n",
       "      <td>2019</td>\n",
       "      <td>115359</td>\n",
       "      <td>Semi-Auto</td>\n",
       "      <td>1000</td>\n",
       "      <td>145</td>\n",
       "      <td>30.1</td>\n",
       "      <td>4.0</td>\n",
       "    </tr>\n",
       "    <tr>\n",
       "      <th>9159</th>\n",
       "      <td>2019</td>\n",
       "      <td>114199</td>\n",
       "      <td>Semi-Auto</td>\n",
       "      <td>891</td>\n",
       "      <td>145</td>\n",
       "      <td>22.6</td>\n",
       "      <td>4.0</td>\n",
       "    </tr>\n",
       "    <tr>\n",
       "      <th>1980</th>\n",
       "      <td>2019</td>\n",
       "      <td>109995</td>\n",
       "      <td>Semi-Auto</td>\n",
       "      <td>4688</td>\n",
       "      <td>150</td>\n",
       "      <td>31.7</td>\n",
       "      <td>4.0</td>\n",
       "    </tr>\n",
       "  </tbody>\n",
       "</table>\n",
       "</div>"
      ],
      "text/plain": [
       "       year   price transmission  mileage  tax   mpg  engineSize\n",
       "6199   2020  159999    Semi-Auto     1350  145  21.4         4.0\n",
       "10044  2020  154998    Automatic     3000  150  21.4         4.0\n",
       "5      2011  149948    Automatic     3000  570  21.4         6.2\n",
       "8737   2019  140319    Semi-Auto      785  150  22.1         4.0\n",
       "6386   2018  139995    Semi-Auto    13046  145  21.4         4.0\n",
       "8      2019  139948    Automatic    12000  145  21.4         4.0\n",
       "9133   2019  139559    Semi-Auto     1000  145  22.1         4.0\n",
       "8821   2020  138439    Semi-Auto     1000  145  22.1         4.0\n",
       "5902   2018  135771    Semi-Auto    19000  145  21.4         4.0\n",
       "7864   2018  135124    Semi-Auto    18234  150  21.4         4.0\n",
       "8673   2019  134219    Semi-Auto     1000  145  24.8         4.0\n",
       "6210   2019  129990    Automatic     1000  145  24.8         4.0\n",
       "4759   2019  126000    Automatic      250  145  24.6         4.0\n",
       "2647   2019  125796    Automatic      637  145  24.8         4.0\n",
       "6223   2019  124999    Automatic     1500  145  31.7         4.0\n",
       "4094   2019  124366    Semi-Auto      880  145  24.8         4.0\n",
       "2629   2019  123846    Semi-Auto     2951  145  22.1         4.0\n",
       "7134   2019  115359    Semi-Auto     1000  145  30.1         4.0\n",
       "9159   2019  114199    Semi-Auto      891  145  22.6         4.0\n",
       "1980   2019  109995    Semi-Auto     4688  150  31.7         4.0"
      ]
     },
     "execution_count": 32,
     "metadata": {},
     "output_type": "execute_result"
    }
   ],
   "source": [
    "data.sort_values(\"price\", ascending=False).head(20)"
   ]
  },
  {
   "cell_type": "code",
   "execution_count": 33,
   "id": "f0bc04f1",
   "metadata": {},
   "outputs": [
    {
     "data": {
      "text/html": [
       "<div>\n",
       "<style scoped>\n",
       "    .dataframe tbody tr th:only-of-type {\n",
       "        vertical-align: middle;\n",
       "    }\n",
       "\n",
       "    .dataframe tbody tr th {\n",
       "        vertical-align: top;\n",
       "    }\n",
       "\n",
       "    .dataframe thead th {\n",
       "        text-align: right;\n",
       "    }\n",
       "</style>\n",
       "<table border=\"1\" class=\"dataframe\">\n",
       "  <thead>\n",
       "    <tr style=\"text-align: right;\">\n",
       "      <th></th>\n",
       "      <th>year</th>\n",
       "      <th>price</th>\n",
       "      <th>transmission</th>\n",
       "      <th>mileage</th>\n",
       "      <th>tax</th>\n",
       "      <th>mpg</th>\n",
       "      <th>engineSize</th>\n",
       "    </tr>\n",
       "  </thead>\n",
       "  <tbody>\n",
       "    <tr>\n",
       "      <th>11816</th>\n",
       "      <td>2003</td>\n",
       "      <td>650</td>\n",
       "      <td>Manual</td>\n",
       "      <td>109090</td>\n",
       "      <td>235</td>\n",
       "      <td>40.0</td>\n",
       "      <td>1.4</td>\n",
       "    </tr>\n",
       "    <tr>\n",
       "      <th>12008</th>\n",
       "      <td>2010</td>\n",
       "      <td>1350</td>\n",
       "      <td>Manual</td>\n",
       "      <td>116126</td>\n",
       "      <td>145</td>\n",
       "      <td>54.3</td>\n",
       "      <td>2.0</td>\n",
       "    </tr>\n",
       "    <tr>\n",
       "      <th>11765</th>\n",
       "      <td>2000</td>\n",
       "      <td>1490</td>\n",
       "      <td>Automatic</td>\n",
       "      <td>87000</td>\n",
       "      <td>265</td>\n",
       "      <td>27.2</td>\n",
       "      <td>3.2</td>\n",
       "    </tr>\n",
       "    <tr>\n",
       "      <th>11549</th>\n",
       "      <td>2002</td>\n",
       "      <td>1495</td>\n",
       "      <td>Automatic</td>\n",
       "      <td>13800</td>\n",
       "      <td>305</td>\n",
       "      <td>39.8</td>\n",
       "      <td>2.7</td>\n",
       "    </tr>\n",
       "    <tr>\n",
       "      <th>12594</th>\n",
       "      <td>2004</td>\n",
       "      <td>1495</td>\n",
       "      <td>Manual</td>\n",
       "      <td>119000</td>\n",
       "      <td>300</td>\n",
       "      <td>34.5</td>\n",
       "      <td>1.8</td>\n",
       "    </tr>\n",
       "    <tr>\n",
       "      <th>11174</th>\n",
       "      <td>2001</td>\n",
       "      <td>1695</td>\n",
       "      <td>Automatic</td>\n",
       "      <td>108800</td>\n",
       "      <td>325</td>\n",
       "      <td>31.7</td>\n",
       "      <td>3.2</td>\n",
       "    </tr>\n",
       "    <tr>\n",
       "      <th>12710</th>\n",
       "      <td>2006</td>\n",
       "      <td>1695</td>\n",
       "      <td>Automatic</td>\n",
       "      <td>153000</td>\n",
       "      <td>300</td>\n",
       "      <td>33.6</td>\n",
       "      <td>1.8</td>\n",
       "    </tr>\n",
       "    <tr>\n",
       "      <th>12766</th>\n",
       "      <td>2004</td>\n",
       "      <td>1780</td>\n",
       "      <td>Automatic</td>\n",
       "      <td>118000</td>\n",
       "      <td>265</td>\n",
       "      <td>41.5</td>\n",
       "      <td>2.2</td>\n",
       "    </tr>\n",
       "    <tr>\n",
       "      <th>12009</th>\n",
       "      <td>2007</td>\n",
       "      <td>1800</td>\n",
       "      <td>Automatic</td>\n",
       "      <td>84000</td>\n",
       "      <td>200</td>\n",
       "      <td>42.8</td>\n",
       "      <td>1.5</td>\n",
       "    </tr>\n",
       "    <tr>\n",
       "      <th>11764</th>\n",
       "      <td>1998</td>\n",
       "      <td>1990</td>\n",
       "      <td>Automatic</td>\n",
       "      <td>99300</td>\n",
       "      <td>265</td>\n",
       "      <td>32.1</td>\n",
       "      <td>2.3</td>\n",
       "    </tr>\n",
       "    <tr>\n",
       "      <th>11808</th>\n",
       "      <td>1998</td>\n",
       "      <td>1990</td>\n",
       "      <td>Automatic</td>\n",
       "      <td>113557</td>\n",
       "      <td>265</td>\n",
       "      <td>32.1</td>\n",
       "      <td>2.3</td>\n",
       "    </tr>\n",
       "    <tr>\n",
       "      <th>11383</th>\n",
       "      <td>2005</td>\n",
       "      <td>1995</td>\n",
       "      <td>Automatic</td>\n",
       "      <td>105000</td>\n",
       "      <td>260</td>\n",
       "      <td>43.5</td>\n",
       "      <td>2.1</td>\n",
       "    </tr>\n",
       "    <tr>\n",
       "      <th>11378</th>\n",
       "      <td>2004</td>\n",
       "      <td>1995</td>\n",
       "      <td>Semi-Auto</td>\n",
       "      <td>165000</td>\n",
       "      <td>330</td>\n",
       "      <td>20.0</td>\n",
       "      <td>3.7</td>\n",
       "    </tr>\n",
       "    <tr>\n",
       "      <th>11857</th>\n",
       "      <td>2002</td>\n",
       "      <td>2140</td>\n",
       "      <td>Automatic</td>\n",
       "      <td>52700</td>\n",
       "      <td>325</td>\n",
       "      <td>31.4</td>\n",
       "      <td>2.0</td>\n",
       "    </tr>\n",
       "    <tr>\n",
       "      <th>11906</th>\n",
       "      <td>2007</td>\n",
       "      <td>2478</td>\n",
       "      <td>Automatic</td>\n",
       "      <td>81000</td>\n",
       "      <td>160</td>\n",
       "      <td>49.6</td>\n",
       "      <td>2.0</td>\n",
       "    </tr>\n",
       "    <tr>\n",
       "      <th>11795</th>\n",
       "      <td>2005</td>\n",
       "      <td>2490</td>\n",
       "      <td>Automatic</td>\n",
       "      <td>101980</td>\n",
       "      <td>200</td>\n",
       "      <td>47.9</td>\n",
       "      <td>2.0</td>\n",
       "    </tr>\n",
       "    <tr>\n",
       "      <th>12765</th>\n",
       "      <td>2004</td>\n",
       "      <td>2495</td>\n",
       "      <td>Automatic</td>\n",
       "      <td>104000</td>\n",
       "      <td>325</td>\n",
       "      <td>31.7</td>\n",
       "      <td>1.8</td>\n",
       "    </tr>\n",
       "    <tr>\n",
       "      <th>11943</th>\n",
       "      <td>2005</td>\n",
       "      <td>2690</td>\n",
       "      <td>Automatic</td>\n",
       "      <td>109000</td>\n",
       "      <td>325</td>\n",
       "      <td>32.1</td>\n",
       "      <td>1.8</td>\n",
       "    </tr>\n",
       "    <tr>\n",
       "      <th>11263</th>\n",
       "      <td>2007</td>\n",
       "      <td>2795</td>\n",
       "      <td>Manual</td>\n",
       "      <td>79485</td>\n",
       "      <td>200</td>\n",
       "      <td>45.6</td>\n",
       "      <td>1.5</td>\n",
       "    </tr>\n",
       "    <tr>\n",
       "      <th>49</th>\n",
       "      <td>2006</td>\n",
       "      <td>2880</td>\n",
       "      <td>Automatic</td>\n",
       "      <td>66000</td>\n",
       "      <td>160</td>\n",
       "      <td>52.3</td>\n",
       "      <td>2.0</td>\n",
       "    </tr>\n",
       "  </tbody>\n",
       "</table>\n",
       "</div>"
      ],
      "text/plain": [
       "       year  price transmission  mileage  tax   mpg  engineSize\n",
       "11816  2003    650       Manual   109090  235  40.0         1.4\n",
       "12008  2010   1350       Manual   116126  145  54.3         2.0\n",
       "11765  2000   1490    Automatic    87000  265  27.2         3.2\n",
       "11549  2002   1495    Automatic    13800  305  39.8         2.7\n",
       "12594  2004   1495       Manual   119000  300  34.5         1.8\n",
       "11174  2001   1695    Automatic   108800  325  31.7         3.2\n",
       "12710  2006   1695    Automatic   153000  300  33.6         1.8\n",
       "12766  2004   1780    Automatic   118000  265  41.5         2.2\n",
       "12009  2007   1800    Automatic    84000  200  42.8         1.5\n",
       "11764  1998   1990    Automatic    99300  265  32.1         2.3\n",
       "11808  1998   1990    Automatic   113557  265  32.1         2.3\n",
       "11383  2005   1995    Automatic   105000  260  43.5         2.1\n",
       "11378  2004   1995    Semi-Auto   165000  330  20.0         3.7\n",
       "11857  2002   2140    Automatic    52700  325  31.4         2.0\n",
       "11906  2007   2478    Automatic    81000  160  49.6         2.0\n",
       "11795  2005   2490    Automatic   101980  200  47.9         2.0\n",
       "12765  2004   2495    Automatic   104000  325  31.7         1.8\n",
       "11943  2005   2690    Automatic   109000  325  32.1         1.8\n",
       "11263  2007   2795       Manual    79485  200  45.6         1.5\n",
       "49     2006   2880    Automatic    66000  160  52.3         2.0"
      ]
     },
     "execution_count": 33,
     "metadata": {},
     "output_type": "execute_result"
    }
   ],
   "source": [
    "data.sort_values(\"price\", ascending=True).head(20)"
   ]
  },
  {
   "cell_type": "code",
   "execution_count": 34,
   "id": "0bc25a24",
   "metadata": {},
   "outputs": [
    {
     "data": {
      "text/plain": [
       "13119"
      ]
     },
     "execution_count": 34,
     "metadata": {},
     "output_type": "execute_result"
    }
   ],
   "source": [
    "len(data)"
   ]
  },
  {
   "cell_type": "markdown",
   "id": "8c2a98bc",
   "metadata": {},
   "source": [
    "biz baktık ve pahalı araçların sayısı az bunlar analizi zorlaştıracak\n",
    "biz de genel veriyi bozmadan bu işi düzeltiyoruz. %100 olan verimizin %1 ini alsak\n",
    "sorun olmaz."
   ]
  },
  {
   "cell_type": "code",
   "execution_count": 35,
   "id": "38426704",
   "metadata": {},
   "outputs": [
    {
     "data": {
      "text/plain": [
       "131.19"
      ]
     },
     "execution_count": 35,
     "metadata": {},
     "output_type": "execute_result"
    }
   ],
   "source": [
    "len(data) * 0.01"
   ]
  },
  {
   "cell_type": "markdown",
   "id": "d316d661",
   "metadata": {},
   "source": [
    "## Veriler Incelemesinden Sonra Kararımıza Göre Veri Temizliğinin Yapılması"
   ]
  },
  {
   "cell_type": "markdown",
   "id": "bc1d579e",
   "metadata": {},
   "source": [
    "#### Aldığımız karara göre daha isabetli sonuçlar için verinin %1'ini yani 131 adet yüksek fiyatlı aracın verisini setten sileceğiz."
   ]
  },
  {
   "cell_type": "code",
   "execution_count": 39,
   "id": "7bde3351",
   "metadata": {},
   "outputs": [],
   "source": [
    "yuzdeData = data.sort_values(\"price\", ascending=False).iloc[131:]"
   ]
  },
  {
   "cell_type": "code",
   "execution_count": 41,
   "id": "4aa732e4",
   "metadata": {},
   "outputs": [
    {
     "data": {
      "text/html": [
       "<div>\n",
       "<style scoped>\n",
       "    .dataframe tbody tr th:only-of-type {\n",
       "        vertical-align: middle;\n",
       "    }\n",
       "\n",
       "    .dataframe tbody tr th {\n",
       "        vertical-align: top;\n",
       "    }\n",
       "\n",
       "    .dataframe thead th {\n",
       "        text-align: right;\n",
       "    }\n",
       "</style>\n",
       "<table border=\"1\" class=\"dataframe\">\n",
       "  <thead>\n",
       "    <tr style=\"text-align: right;\">\n",
       "      <th></th>\n",
       "      <th>year</th>\n",
       "      <th>price</th>\n",
       "      <th>mileage</th>\n",
       "      <th>tax</th>\n",
       "      <th>mpg</th>\n",
       "      <th>engineSize</th>\n",
       "    </tr>\n",
       "  </thead>\n",
       "  <tbody>\n",
       "    <tr>\n",
       "      <th>count</th>\n",
       "      <td>12988.000000</td>\n",
       "      <td>12988.000000</td>\n",
       "      <td>12988.000000</td>\n",
       "      <td>12988.000000</td>\n",
       "      <td>12988.000000</td>\n",
       "      <td>12988.000000</td>\n",
       "    </tr>\n",
       "    <tr>\n",
       "      <th>mean</th>\n",
       "      <td>2017.281876</td>\n",
       "      <td>24074.926933</td>\n",
       "      <td>22132.741146</td>\n",
       "      <td>129.689714</td>\n",
       "      <td>55.437142</td>\n",
       "      <td>2.050901</td>\n",
       "    </tr>\n",
       "    <tr>\n",
       "      <th>std</th>\n",
       "      <td>2.228515</td>\n",
       "      <td>9866.224575</td>\n",
       "      <td>21196.776401</td>\n",
       "      <td>65.183076</td>\n",
       "      <td>15.025999</td>\n",
       "      <td>0.532596</td>\n",
       "    </tr>\n",
       "    <tr>\n",
       "      <th>min</th>\n",
       "      <td>1970.000000</td>\n",
       "      <td>650.000000</td>\n",
       "      <td>1.000000</td>\n",
       "      <td>0.000000</td>\n",
       "      <td>1.100000</td>\n",
       "      <td>0.000000</td>\n",
       "    </tr>\n",
       "    <tr>\n",
       "      <th>25%</th>\n",
       "      <td>2016.000000</td>\n",
       "      <td>17357.500000</td>\n",
       "      <td>6322.000000</td>\n",
       "      <td>125.000000</td>\n",
       "      <td>45.600000</td>\n",
       "      <td>1.675000</td>\n",
       "    </tr>\n",
       "    <tr>\n",
       "      <th>50%</th>\n",
       "      <td>2018.000000</td>\n",
       "      <td>22299.000000</td>\n",
       "      <td>15369.500000</td>\n",
       "      <td>145.000000</td>\n",
       "      <td>56.500000</td>\n",
       "      <td>2.000000</td>\n",
       "    </tr>\n",
       "    <tr>\n",
       "      <th>75%</th>\n",
       "      <td>2019.000000</td>\n",
       "      <td>28706.000000</td>\n",
       "      <td>31982.250000</td>\n",
       "      <td>145.000000</td>\n",
       "      <td>64.200000</td>\n",
       "      <td>2.100000</td>\n",
       "    </tr>\n",
       "    <tr>\n",
       "      <th>max</th>\n",
       "      <td>2020.000000</td>\n",
       "      <td>65990.000000</td>\n",
       "      <td>259000.000000</td>\n",
       "      <td>580.000000</td>\n",
       "      <td>217.300000</td>\n",
       "      <td>6.200000</td>\n",
       "    </tr>\n",
       "  </tbody>\n",
       "</table>\n",
       "</div>"
      ],
      "text/plain": [
       "               year         price        mileage           tax           mpg  \\\n",
       "count  12988.000000  12988.000000   12988.000000  12988.000000  12988.000000   \n",
       "mean    2017.281876  24074.926933   22132.741146    129.689714     55.437142   \n",
       "std        2.228515   9866.224575   21196.776401     65.183076     15.025999   \n",
       "min     1970.000000    650.000000       1.000000      0.000000      1.100000   \n",
       "25%     2016.000000  17357.500000    6322.000000    125.000000     45.600000   \n",
       "50%     2018.000000  22299.000000   15369.500000    145.000000     56.500000   \n",
       "75%     2019.000000  28706.000000   31982.250000    145.000000     64.200000   \n",
       "max     2020.000000  65990.000000  259000.000000    580.000000    217.300000   \n",
       "\n",
       "         engineSize  \n",
       "count  12988.000000  \n",
       "mean       2.050901  \n",
       "std        0.532596  \n",
       "min        0.000000  \n",
       "25%        1.675000  \n",
       "50%        2.000000  \n",
       "75%        2.100000  \n",
       "max        6.200000  "
      ]
     },
     "execution_count": 41,
     "metadata": {},
     "output_type": "execute_result"
    }
   ],
   "source": [
    "yuzdeData.describe()"
   ]
  },
  {
   "cell_type": "code",
   "execution_count": 43,
   "id": "0d7c04d7",
   "metadata": {},
   "outputs": [
    {
     "name": "stderr",
     "output_type": "stream",
     "text": [
      "/opt/anaconda3/envs/veriBilimi/lib/python3.7/site-packages/seaborn/distributions.py:2619: FutureWarning: `distplot` is a deprecated function and will be removed in a future version. Please adapt your code to use either `displot` (a figure-level function with similar flexibility) or `histplot` (an axes-level function for histograms).\n",
      "  warnings.warn(msg, FutureWarning)\n"
     ]
    },
    {
     "data": {
      "text/plain": [
       "<AxesSubplot:xlabel='price', ylabel='Density'>"
      ]
     },
     "execution_count": 43,
     "metadata": {},
     "output_type": "execute_result"
    },
    {
     "data": {
      "image/png": "[encoded data removed]",
      "text/plain": [
       "<Figure size 504x360 with 1 Axes>"
      ]
     },
     "metadata": {
      "needs_background": "light"
     },
     "output_type": "display_data"
    }
   ],
   "source": [
    "plt.figure(figsize=(7,5))\n",
    "sbn.distplot(yuzdeData[\"price\"])"
   ]
  },
  {
   "cell_type": "code",
   "execution_count": 44,
   "id": "9f7d19d5",
   "metadata": {},
   "outputs": [
    {
     "data": {
      "text/plain": [
       "year\n",
       "1970    24999.000000\n",
       "1997     9995.000000\n",
       "1998     8605.000000\n",
       "1999     5995.000000\n",
       "2000     5743.333333\n",
       "2001     4957.900000\n",
       "2002     5820.444444\n",
       "2003     4878.000000\n",
       "2004     4727.615385\n",
       "2005     4426.111111\n",
       "2006     4036.875000\n",
       "2007     5136.045455\n",
       "2008     6967.437500\n",
       "2009     6166.764706\n",
       "2010     8308.473684\n",
       "2011     8913.459459\n",
       "2012    10845.140351\n",
       "2013    11939.842466\n",
       "2014    14042.936864\n",
       "2015    16647.822222\n",
       "2016    19223.558943\n",
       "2017    21356.280421\n",
       "2018    24800.844506\n",
       "2019    30289.524832\n",
       "2020    34234.794872\n",
       "Name: price, dtype: float64"
      ]
     },
     "execution_count": 44,
     "metadata": {},
     "output_type": "execute_result"
    }
   ],
   "source": [
    "yuzdeData.groupby(\"year\").mean()[\"price\"]"
   ]
  },
  {
   "cell_type": "markdown",
   "id": "0702d348",
   "metadata": {},
   "source": [
    "## Yıla göre inceledik 1970li arabalar fiyatı sıkıntılı çıkarılabilir!\n",
    "### Bu verileri veri setimizden nasıl çıkaracağız?"
   ]
  },
  {
   "cell_type": "code",
   "execution_count": 45,
   "id": "f96ed3db",
   "metadata": {},
   "outputs": [],
   "source": [
    "yeniData = yuzdeData[yuzdeData[\"year\"] != 1970].groupby(\"year\").mean()[\"price\"]"
   ]
  },
  {
   "cell_type": "code",
   "execution_count": 46,
   "id": "3225dca8",
   "metadata": {},
   "outputs": [
    {
     "data": {
      "text/plain": [
       "year\n",
       "1997     9995.000000\n",
       "1998     8605.000000\n",
       "1999     5995.000000\n",
       "2000     5743.333333\n",
       "2001     4957.900000\n",
       "2002     5820.444444\n",
       "2003     4878.000000\n",
       "2004     4727.615385\n",
       "2005     4426.111111\n",
       "2006     4036.875000\n",
       "2007     5136.045455\n",
       "2008     6967.437500\n",
       "2009     6166.764706\n",
       "2010     8308.473684\n",
       "2011     8913.459459\n",
       "2012    10845.140351\n",
       "2013    11939.842466\n",
       "2014    14042.936864\n",
       "2015    16647.822222\n",
       "2016    19223.558943\n",
       "2017    21356.280421\n",
       "2018    24800.844506\n",
       "2019    30289.524832\n",
       "2020    34234.794872\n",
       "Name: price, dtype: float64"
      ]
     },
     "execution_count": 46,
     "metadata": {},
     "output_type": "execute_result"
    }
   ],
   "source": [
    "yeniData"
   ]
  },
  {
   "cell_type": "code",
   "execution_count": 49,
   "id": "e9931050",
   "metadata": {},
   "outputs": [],
   "source": [
    "yuzdeData = yuzdeData[yuzdeData.year != 1970]"
   ]
  },
  {
   "cell_type": "code",
   "execution_count": 50,
   "id": "2e6723cf",
   "metadata": {},
   "outputs": [
    {
     "data": {
      "text/html": [
       "<div>\n",
       "<style scoped>\n",
       "    .dataframe tbody tr th:only-of-type {\n",
       "        vertical-align: middle;\n",
       "    }\n",
       "\n",
       "    .dataframe tbody tr th {\n",
       "        vertical-align: top;\n",
       "    }\n",
       "\n",
       "    .dataframe thead th {\n",
       "        text-align: right;\n",
       "    }\n",
       "</style>\n",
       "<table border=\"1\" class=\"dataframe\">\n",
       "  <thead>\n",
       "    <tr style=\"text-align: right;\">\n",
       "      <th></th>\n",
       "      <th>year</th>\n",
       "      <th>price</th>\n",
       "      <th>transmission</th>\n",
       "      <th>mileage</th>\n",
       "      <th>tax</th>\n",
       "      <th>mpg</th>\n",
       "      <th>engineSize</th>\n",
       "    </tr>\n",
       "  </thead>\n",
       "  <tbody>\n",
       "    <tr>\n",
       "      <th>6177</th>\n",
       "      <td>2019</td>\n",
       "      <td>65990</td>\n",
       "      <td>Semi-Auto</td>\n",
       "      <td>5076</td>\n",
       "      <td>150</td>\n",
       "      <td>30.4</td>\n",
       "      <td>3.0</td>\n",
       "    </tr>\n",
       "    <tr>\n",
       "      <th>5779</th>\n",
       "      <td>2020</td>\n",
       "      <td>65990</td>\n",
       "      <td>Semi-Auto</td>\n",
       "      <td>999</td>\n",
       "      <td>145</td>\n",
       "      <td>28.0</td>\n",
       "      <td>4.0</td>\n",
       "    </tr>\n",
       "    <tr>\n",
       "      <th>3191</th>\n",
       "      <td>2020</td>\n",
       "      <td>65980</td>\n",
       "      <td>Semi-Auto</td>\n",
       "      <td>3999</td>\n",
       "      <td>145</td>\n",
       "      <td>28.0</td>\n",
       "      <td>4.0</td>\n",
       "    </tr>\n",
       "    <tr>\n",
       "      <th>4727</th>\n",
       "      <td>2019</td>\n",
       "      <td>65000</td>\n",
       "      <td>Semi-Auto</td>\n",
       "      <td>3398</td>\n",
       "      <td>145</td>\n",
       "      <td>27.2</td>\n",
       "      <td>4.0</td>\n",
       "    </tr>\n",
       "    <tr>\n",
       "      <th>8814</th>\n",
       "      <td>2019</td>\n",
       "      <td>64999</td>\n",
       "      <td>Semi-Auto</td>\n",
       "      <td>119</td>\n",
       "      <td>145</td>\n",
       "      <td>40.9</td>\n",
       "      <td>3.0</td>\n",
       "    </tr>\n",
       "    <tr>\n",
       "      <th>...</th>\n",
       "      <td>...</td>\n",
       "      <td>...</td>\n",
       "      <td>...</td>\n",
       "      <td>...</td>\n",
       "      <td>...</td>\n",
       "      <td>...</td>\n",
       "      <td>...</td>\n",
       "    </tr>\n",
       "    <tr>\n",
       "      <th>11549</th>\n",
       "      <td>2002</td>\n",
       "      <td>1495</td>\n",
       "      <td>Automatic</td>\n",
       "      <td>13800</td>\n",
       "      <td>305</td>\n",
       "      <td>39.8</td>\n",
       "      <td>2.7</td>\n",
       "    </tr>\n",
       "    <tr>\n",
       "      <th>12594</th>\n",
       "      <td>2004</td>\n",
       "      <td>1495</td>\n",
       "      <td>Manual</td>\n",
       "      <td>119000</td>\n",
       "      <td>300</td>\n",
       "      <td>34.5</td>\n",
       "      <td>1.8</td>\n",
       "    </tr>\n",
       "    <tr>\n",
       "      <th>11765</th>\n",
       "      <td>2000</td>\n",
       "      <td>1490</td>\n",
       "      <td>Automatic</td>\n",
       "      <td>87000</td>\n",
       "      <td>265</td>\n",
       "      <td>27.2</td>\n",
       "      <td>3.2</td>\n",
       "    </tr>\n",
       "    <tr>\n",
       "      <th>12008</th>\n",
       "      <td>2010</td>\n",
       "      <td>1350</td>\n",
       "      <td>Manual</td>\n",
       "      <td>116126</td>\n",
       "      <td>145</td>\n",
       "      <td>54.3</td>\n",
       "      <td>2.0</td>\n",
       "    </tr>\n",
       "    <tr>\n",
       "      <th>11816</th>\n",
       "      <td>2003</td>\n",
       "      <td>650</td>\n",
       "      <td>Manual</td>\n",
       "      <td>109090</td>\n",
       "      <td>235</td>\n",
       "      <td>40.0</td>\n",
       "      <td>1.4</td>\n",
       "    </tr>\n",
       "  </tbody>\n",
       "</table>\n",
       "<p>12987 rows × 7 columns</p>\n",
       "</div>"
      ],
      "text/plain": [
       "       year  price transmission  mileage  tax   mpg  engineSize\n",
       "6177   2019  65990    Semi-Auto     5076  150  30.4         3.0\n",
       "5779   2020  65990    Semi-Auto      999  145  28.0         4.0\n",
       "3191   2020  65980    Semi-Auto     3999  145  28.0         4.0\n",
       "4727   2019  65000    Semi-Auto     3398  145  27.2         4.0\n",
       "8814   2019  64999    Semi-Auto      119  145  40.9         3.0\n",
       "...     ...    ...          ...      ...  ...   ...         ...\n",
       "11549  2002   1495    Automatic    13800  305  39.8         2.7\n",
       "12594  2004   1495       Manual   119000  300  34.5         1.8\n",
       "11765  2000   1490    Automatic    87000  265  27.2         3.2\n",
       "12008  2010   1350       Manual   116126  145  54.3         2.0\n",
       "11816  2003    650       Manual   109090  235  40.0         1.4\n",
       "\n",
       "[12987 rows x 7 columns]"
      ]
     },
     "execution_count": 50,
     "metadata": {},
     "output_type": "execute_result"
    }
   ],
   "source": [
    "yuzdeData"
   ]
  },
  {
   "cell_type": "markdown",
   "id": "0a1b24d6",
   "metadata": {},
   "source": [
    "## Sonucu etkileyen kolon verisinin silinmesi"
   ]
  },
  {
   "cell_type": "markdown",
   "id": "e54b0f4b",
   "metadata": {},
   "source": [
    "#### transmisson kısmı var data içinde bundan kurtulmak lazım."
   ]
  },
  {
   "cell_type": "code",
   "execution_count": 52,
   "id": "4ec91363",
   "metadata": {},
   "outputs": [],
   "source": [
    "yuzdeData = yuzdeData.drop(\"transmission\", axis=1)"
   ]
  },
  {
   "cell_type": "code",
   "execution_count": 53,
   "id": "ce966c8b",
   "metadata": {},
   "outputs": [
    {
     "data": {
      "text/html": [
       "<div>\n",
       "<style scoped>\n",
       "    .dataframe tbody tr th:only-of-type {\n",
       "        vertical-align: middle;\n",
       "    }\n",
       "\n",
       "    .dataframe tbody tr th {\n",
       "        vertical-align: top;\n",
       "    }\n",
       "\n",
       "    .dataframe thead th {\n",
       "        text-align: right;\n",
       "    }\n",
       "</style>\n",
       "<table border=\"1\" class=\"dataframe\">\n",
       "  <thead>\n",
       "    <tr style=\"text-align: right;\">\n",
       "      <th></th>\n",
       "      <th>year</th>\n",
       "      <th>price</th>\n",
       "      <th>mileage</th>\n",
       "      <th>tax</th>\n",
       "      <th>mpg</th>\n",
       "      <th>engineSize</th>\n",
       "    </tr>\n",
       "  </thead>\n",
       "  <tbody>\n",
       "    <tr>\n",
       "      <th>6177</th>\n",
       "      <td>2019</td>\n",
       "      <td>65990</td>\n",
       "      <td>5076</td>\n",
       "      <td>150</td>\n",
       "      <td>30.4</td>\n",
       "      <td>3.0</td>\n",
       "    </tr>\n",
       "    <tr>\n",
       "      <th>5779</th>\n",
       "      <td>2020</td>\n",
       "      <td>65990</td>\n",
       "      <td>999</td>\n",
       "      <td>145</td>\n",
       "      <td>28.0</td>\n",
       "      <td>4.0</td>\n",
       "    </tr>\n",
       "    <tr>\n",
       "      <th>3191</th>\n",
       "      <td>2020</td>\n",
       "      <td>65980</td>\n",
       "      <td>3999</td>\n",
       "      <td>145</td>\n",
       "      <td>28.0</td>\n",
       "      <td>4.0</td>\n",
       "    </tr>\n",
       "    <tr>\n",
       "      <th>4727</th>\n",
       "      <td>2019</td>\n",
       "      <td>65000</td>\n",
       "      <td>3398</td>\n",
       "      <td>145</td>\n",
       "      <td>27.2</td>\n",
       "      <td>4.0</td>\n",
       "    </tr>\n",
       "    <tr>\n",
       "      <th>8814</th>\n",
       "      <td>2019</td>\n",
       "      <td>64999</td>\n",
       "      <td>119</td>\n",
       "      <td>145</td>\n",
       "      <td>40.9</td>\n",
       "      <td>3.0</td>\n",
       "    </tr>\n",
       "    <tr>\n",
       "      <th>...</th>\n",
       "      <td>...</td>\n",
       "      <td>...</td>\n",
       "      <td>...</td>\n",
       "      <td>...</td>\n",
       "      <td>...</td>\n",
       "      <td>...</td>\n",
       "    </tr>\n",
       "    <tr>\n",
       "      <th>11549</th>\n",
       "      <td>2002</td>\n",
       "      <td>1495</td>\n",
       "      <td>13800</td>\n",
       "      <td>305</td>\n",
       "      <td>39.8</td>\n",
       "      <td>2.7</td>\n",
       "    </tr>\n",
       "    <tr>\n",
       "      <th>12594</th>\n",
       "      <td>2004</td>\n",
       "      <td>1495</td>\n",
       "      <td>119000</td>\n",
       "      <td>300</td>\n",
       "      <td>34.5</td>\n",
       "      <td>1.8</td>\n",
       "    </tr>\n",
       "    <tr>\n",
       "      <th>11765</th>\n",
       "      <td>2000</td>\n",
       "      <td>1490</td>\n",
       "      <td>87000</td>\n",
       "      <td>265</td>\n",
       "      <td>27.2</td>\n",
       "      <td>3.2</td>\n",
       "    </tr>\n",
       "    <tr>\n",
       "      <th>12008</th>\n",
       "      <td>2010</td>\n",
       "      <td>1350</td>\n",
       "      <td>116126</td>\n",
       "      <td>145</td>\n",
       "      <td>54.3</td>\n",
       "      <td>2.0</td>\n",
       "    </tr>\n",
       "    <tr>\n",
       "      <th>11816</th>\n",
       "      <td>2003</td>\n",
       "      <td>650</td>\n",
       "      <td>109090</td>\n",
       "      <td>235</td>\n",
       "      <td>40.0</td>\n",
       "      <td>1.4</td>\n",
       "    </tr>\n",
       "  </tbody>\n",
       "</table>\n",
       "<p>12987 rows × 6 columns</p>\n",
       "</div>"
      ],
      "text/plain": [
       "       year  price  mileage  tax   mpg  engineSize\n",
       "6177   2019  65990     5076  150  30.4         3.0\n",
       "5779   2020  65990      999  145  28.0         4.0\n",
       "3191   2020  65980     3999  145  28.0         4.0\n",
       "4727   2019  65000     3398  145  27.2         4.0\n",
       "8814   2019  64999      119  145  40.9         3.0\n",
       "...     ...    ...      ...  ...   ...         ...\n",
       "11549  2002   1495    13800  305  39.8         2.7\n",
       "12594  2004   1495   119000  300  34.5         1.8\n",
       "11765  2000   1490    87000  265  27.2         3.2\n",
       "12008  2010   1350   116126  145  54.3         2.0\n",
       "11816  2003    650   109090  235  40.0         1.4\n",
       "\n",
       "[12987 rows x 6 columns]"
      ]
     },
     "execution_count": 53,
     "metadata": {},
     "output_type": "execute_result"
    }
   ],
   "source": [
    "yuzdeData"
   ]
  },
  {
   "cell_type": "markdown",
   "id": "878692d3",
   "metadata": {},
   "source": [
    "# TENSORFLOW İŞLEMLERİ BAŞLIYOR"
   ]
  },
  {
   "cell_type": "markdown",
   "id": "90695674",
   "metadata": {},
   "source": [
    "## MODEL OLUŞTURMA"
   ]
  },
  {
   "cell_type": "code",
   "execution_count": 54,
   "id": "3efe28b5",
   "metadata": {},
   "outputs": [],
   "source": [
    "y = yuzdeData[\"price\"].values\n",
    "x = yuzdeData.drop(\"price\", axis = 1).values"
   ]
  },
  {
   "cell_type": "code",
   "execution_count": 55,
   "id": "408c26fe",
   "metadata": {},
   "outputs": [
    {
     "data": {
      "text/plain": [
       "array([65990, 65990, 65980, ...,  1490,  1350,   650])"
      ]
     },
     "execution_count": 55,
     "metadata": {},
     "output_type": "execute_result"
    }
   ],
   "source": [
    "y"
   ]
  },
  {
   "cell_type": "code",
   "execution_count": 56,
   "id": "69799abe",
   "metadata": {},
   "outputs": [
    {
     "data": {
      "text/plain": [
       "array([[2.01900e+03, 5.07600e+03, 1.50000e+02, 3.04000e+01, 3.00000e+00],\n",
       "       [2.02000e+03, 9.99000e+02, 1.45000e+02, 2.80000e+01, 4.00000e+00],\n",
       "       [2.02000e+03, 3.99900e+03, 1.45000e+02, 2.80000e+01, 4.00000e+00],\n",
       "       ...,\n",
       "       [2.00000e+03, 8.70000e+04, 2.65000e+02, 2.72000e+01, 3.20000e+00],\n",
       "       [2.01000e+03, 1.16126e+05, 1.45000e+02, 5.43000e+01, 2.00000e+00],\n",
       "       [2.00300e+03, 1.09090e+05, 2.35000e+02, 4.00000e+01, 1.40000e+00]])"
      ]
     },
     "execution_count": 56,
     "metadata": {},
     "output_type": "execute_result"
    }
   ],
   "source": [
    "x"
   ]
  },
  {
   "cell_type": "markdown",
   "id": "b00145bc",
   "metadata": {},
   "source": [
    "# Test / Train ayrımı yapma evresi"
   ]
  },
  {
   "cell_type": "code",
   "execution_count": 57,
   "id": "a96e3eb9",
   "metadata": {},
   "outputs": [],
   "source": [
    "from sklearn.model_selection import train_test_split"
   ]
  },
  {
   "cell_type": "markdown",
   "id": "1f22227e",
   "metadata": {},
   "source": [
    "train ve test kısmı oluşturuyoruz. oluştururken önce x y sonra yüzde kaçı test alanı olacak veriyoruz."
   ]
  },
  {
   "cell_type": "code",
   "execution_count": 58,
   "id": "dc315d58",
   "metadata": {},
   "outputs": [],
   "source": [
    "x_train, x_test, y_train, y_test = train_test_split(x, y, test_size=0.3, random_state=10)"
   ]
  },
  {
   "cell_type": "markdown",
   "id": "479d0904",
   "metadata": {},
   "source": [
    "doğru ayrılmış mı? test ediyoruz."
   ]
  },
  {
   "cell_type": "code",
   "execution_count": 59,
   "id": "51819b6e",
   "metadata": {},
   "outputs": [
    {
     "data": {
      "text/plain": [
       "9090"
      ]
     },
     "execution_count": 59,
     "metadata": {},
     "output_type": "execute_result"
    }
   ],
   "source": [
    "len(x_train)"
   ]
  },
  {
   "cell_type": "code",
   "execution_count": 60,
   "id": "a0b837f5",
   "metadata": {},
   "outputs": [
    {
     "data": {
      "text/plain": [
       "3897"
      ]
     },
     "execution_count": 60,
     "metadata": {},
     "output_type": "execute_result"
    }
   ],
   "source": [
    "len(x_test)"
   ]
  },
  {
   "cell_type": "code",
   "execution_count": 61,
   "id": "5c6457a8",
   "metadata": {},
   "outputs": [
    {
     "data": {
      "text/plain": [
       "12987"
      ]
     },
     "execution_count": 61,
     "metadata": {},
     "output_type": "execute_result"
    }
   ],
   "source": [
    "len(yuzdeData)"
   ]
  },
  {
   "cell_type": "markdown",
   "id": "a8d75e31",
   "metadata": {},
   "source": [
    "## Verileri standartlaştırma, ölçeklendirme işlemi (scaling işlemi)"
   ]
  },
  {
   "cell_type": "code",
   "execution_count": 62,
   "id": "ddc647fd",
   "metadata": {},
   "outputs": [],
   "source": [
    "from sklearn.preprocessing import MinMaxScaler"
   ]
  },
  {
   "cell_type": "code",
   "execution_count": 63,
   "id": "12835849",
   "metadata": {},
   "outputs": [],
   "source": [
    "scaler = MinMaxScaler()"
   ]
  },
  {
   "cell_type": "code",
   "execution_count": 64,
   "id": "c0dc9c5b",
   "metadata": {},
   "outputs": [],
   "source": [
    "x_train = scaler.fit_transform(x_train)"
   ]
  },
  {
   "cell_type": "code",
   "execution_count": 65,
   "id": "508f0f82",
   "metadata": {},
   "outputs": [],
   "source": [
    "x_test = scaler.fit_transform(x_test)"
   ]
  },
  {
   "cell_type": "markdown",
   "id": "af6c693b",
   "metadata": {},
   "source": [
    "# TensorFlow Çağırıyoruz!"
   ]
  },
  {
   "cell_type": "markdown",
   "id": "1cc1c8dc",
   "metadata": {},
   "source": [
    "#### x , y oluştu test trainler oluştu artık eğitime geldi sıra"
   ]
  },
  {
   "cell_type": "code",
   "execution_count": 68,
   "id": "93e663c3",
   "metadata": {},
   "outputs": [],
   "source": [
    "# bununla modelimizi oluşturacağız.\n",
    "from tensorflow.keras.models import Sequential\n",
    "# bununla katmanlarımızı oluşturacağız.\n",
    "from tensorflow.keras.layers import Dense"
   ]
  },
  {
   "cell_type": "markdown",
   "id": "f5ddc73e",
   "metadata": {},
   "source": [
    "#### içerisinde kaç özelliğimiz var, kaç datamız var bakmak için ;"
   ]
  },
  {
   "cell_type": "code",
   "execution_count": 69,
   "id": "b30f3a96",
   "metadata": {},
   "outputs": [
    {
     "data": {
      "text/plain": [
       "(9090, 5)"
      ]
     },
     "execution_count": 69,
     "metadata": {},
     "output_type": "execute_result"
    }
   ],
   "source": [
    "x_train.shape"
   ]
  },
  {
   "cell_type": "markdown",
   "id": "64ce60e7",
   "metadata": {},
   "source": [
    "#### model oluşturalım"
   ]
  },
  {
   "cell_type": "code",
   "execution_count": 71,
   "id": "0c936c1c",
   "metadata": {},
   "outputs": [],
   "source": [
    "model = Sequential()\n",
    "\n",
    "# katman ekleyelim şimdi\n",
    "model.add(Dense(12, activation=\"relu\"))\n",
    "model.add(Dense(12, activation=\"relu\"))\n",
    "model.add(Dense(12, activation=\"relu\"))\n",
    "model.add(Dense(12, activation=\"relu\"))\n",
    "\n",
    "# çıkış katmanı ekleyeceğiz.\n",
    "model.add(Dense(1))\n",
    "\n",
    "# compile ederken optimizer seçmek lazım \"adam\" en iyisi\n",
    "model.compile(optimizer=\"adam\", loss=\"mse\")"
   ]
  },
  {
   "cell_type": "markdown",
   "id": "d1fe3c5d",
   "metadata": {},
   "source": [
    "#### sıra modeli eğitmeye işlemine geldi!"
   ]
  },
  {
   "cell_type": "code",
   "execution_count": 72,
   "id": "88e957a6",
   "metadata": {},
   "outputs": [
    {
     "name": "stderr",
     "output_type": "stream",
     "text": [
      "2022-01-28 11:30:26.177271: I tensorflow/core/platform/cpu_feature_guard.cc:145] This TensorFlow binary is optimized with Intel(R) MKL-DNN to use the following CPU instructions in performance critical operations:  SSE4.1 SSE4.2\n",
      "To enable them in non-MKL-DNN operations, rebuild TensorFlow with the appropriate compiler flags.\n",
      "2022-01-28 11:30:26.179193: I tensorflow/core/common_runtime/process_util.cc:115] Creating new thread pool with default inter op setting: 8. Tune using inter_op_parallelism_threads for best performance.\n"
     ]
    },
    {
     "name": "stdout",
     "output_type": "stream",
     "text": [
      "Train on 9090 samples, validate on 3897 samples\n",
      "Epoch 1/300\n",
      "9090/9090 [==============================] - 1s 83us/sample - loss: 672140417.4081 - val_loss: 688090370.4142\n",
      "Epoch 2/300\n",
      "9090/9090 [==============================] - 0s 11us/sample - loss: 672093069.7294 - val_loss: 688003425.0921\n",
      "Epoch 3/300\n",
      "9090/9090 [==============================] - 0s 10us/sample - loss: 671925870.1870 - val_loss: 687689006.4275\n",
      "Epoch 4/300\n",
      "9090/9090 [==============================] - 0s 10us/sample - loss: 671339875.1331 - val_loss: 686627555.7855\n",
      "Epoch 5/300\n",
      "9090/9090 [==============================] - 0s 9us/sample - loss: 669475399.8152 - val_loss: 683394065.9666\n",
      "Epoch 6/300\n",
      "9090/9090 [==============================] - 0s 9us/sample - loss: 664150576.3696 - val_loss: 674847310.1073\n",
      "Epoch 7/300\n",
      "9090/9090 [==============================] - 0s 10us/sample - loss: 651535267.1331 - val_loss: 656079823.7496\n",
      "Epoch 8/300\n",
      "9090/9090 [==============================] - 0s 9us/sample - loss: 625628607.2255 - val_loss: 619782613.0541\n",
      "Epoch 9/300\n",
      "9090/9090 [==============================] - 0s 9us/sample - loss: 578818958.2574 - val_loss: 558112765.4380\n",
      "Epoch 10/300\n",
      "9090/9090 [==============================] - 0s 9us/sample - loss: 504878735.1727 - val_loss: 466725866.0837\n",
      "Epoch 11/300\n",
      "9090/9090 [==============================] - 0s 10us/sample - loss: 403383676.7613 - val_loss: 351912203.3975\n",
      "Epoch 12/300\n",
      "9090/9090 [==============================] - 0s 10us/sample - loss: 286880553.4697 - val_loss: 234083196.1570\n",
      "Epoch 13/300\n",
      "9090/9090 [==============================] - 0s 9us/sample - loss: 182378956.1804 - val_loss: 146581167.6469\n",
      "Epoch 14/300\n",
      "9090/9090 [==============================] - 0s 9us/sample - loss: 118730980.2948 - val_loss: 106377718.8217\n",
      "Epoch 15/300\n",
      "9090/9090 [==============================] - 0s 9us/sample - loss: 95529988.1056 - val_loss: 96614884.7093\n",
      "Epoch 16/300\n",
      "9090/9090 [==============================] - 0s 10us/sample - loss: 90892443.4147 - val_loss: 94569537.5396\n",
      "Epoch 17/300\n",
      "9090/9090 [==============================] - 0s 10us/sample - loss: 89760868.8185 - val_loss: 93502991.5812\n",
      "Epoch 18/300\n",
      "9090/9090 [==============================] - 0s 10us/sample - loss: 89009872.6645 - val_loss: 92554289.3836\n",
      "Epoch 19/300\n",
      "9090/9090 [==============================] - 0s 10us/sample - loss: 88313884.0176 - val_loss: 91667731.0670\n",
      "Epoch 20/300\n",
      "9090/9090 [==============================] - 0s 10us/sample - loss: 87652818.7371 - val_loss: 90833990.6225\n",
      "Epoch 21/300\n",
      "9090/9090 [==============================] - 0s 10us/sample - loss: 87021729.6458 - val_loss: 90021949.7932\n",
      "Epoch 22/300\n",
      "9090/9090 [==============================] - 0s 10us/sample - loss: 86403446.3674 - val_loss: 89219454.1052\n",
      "Epoch 23/300\n",
      "9090/9090 [==============================] - 0s 10us/sample - loss: 85799602.5699 - val_loss: 88480825.3200\n",
      "Epoch 24/300\n",
      "9090/9090 [==============================] - 0s 12us/sample - loss: 85202279.5600 - val_loss: 87723940.5430\n",
      "Epoch 25/300\n",
      "9090/9090 [==============================] - 0s 12us/sample - loss: 84614776.0616 - val_loss: 86995037.0706\n",
      "Epoch 26/300\n",
      "9090/9090 [==============================] - 0s 11us/sample - loss: 84047862.5479 - val_loss: 86290493.2574\n",
      "Epoch 27/300\n",
      "9090/9090 [==============================] - 0s 11us/sample - loss: 83477898.5391 - val_loss: 85592433.7511\n",
      "Epoch 28/300\n",
      "9090/9090 [==============================] - 0s 11us/sample - loss: 82917591.8768 - val_loss: 84888351.9179\n",
      "Epoch 29/300\n",
      "9090/9090 [==============================] - 0s 11us/sample - loss: 82374820.3872 - val_loss: 84220663.8152\n",
      "Epoch 30/300\n",
      "9090/9090 [==============================] - 0s 10us/sample - loss: 81812812.5721 - val_loss: 83535157.5304\n",
      "Epoch 31/300\n",
      "9090/9090 [==============================] - 0s 10us/sample - loss: 81260946.0858 - val_loss: 82843203.8594\n",
      "Epoch 32/300\n",
      "9090/9090 [==============================] - 0s 11us/sample - loss: 80716235.0583 - val_loss: 82204167.2836\n",
      "Epoch 33/300\n",
      "9090/9090 [==============================] - 0s 11us/sample - loss: 80179382.5347 - val_loss: 81509001.1681\n",
      "Epoch 34/300\n",
      "9090/9090 [==============================] - 0s 10us/sample - loss: 79633561.8526 - val_loss: 80834709.7973\n",
      "Epoch 35/300\n",
      "9090/9090 [==============================] - 0s 11us/sample - loss: 79086990.8471 - val_loss: 80202807.9630\n",
      "Epoch 36/300\n",
      "9090/9090 [==============================] - 0s 11us/sample - loss: 78539500.9461 - val_loss: 79542800.0513\n",
      "Epoch 37/300\n",
      "9090/9090 [==============================] - 0s 10us/sample - loss: 77995555.1991 - val_loss: 78870675.4488\n",
      "Epoch 38/300\n",
      "9090/9090 [==============================] - 0s 11us/sample - loss: 77469786.2750 - val_loss: 78208351.6756\n",
      "Epoch 39/300\n",
      "9090/9090 [==============================] - 0s 11us/sample - loss: 76921967.7360 - val_loss: 77558203.6972\n",
      "Epoch 40/300\n",
      "9090/9090 [==============================] - 0s 11us/sample - loss: 76374773.6810 - val_loss: 76944079.7968\n",
      "Epoch 41/300\n",
      "9090/9090 [==============================] - 0s 11us/sample - loss: 75829061.7866 - val_loss: 76291543.6366\n",
      "Epoch 42/300\n",
      "9090/9090 [==============================] - 0s 11us/sample - loss: 75289885.5314 - val_loss: 75609995.6089\n",
      "Epoch 43/300\n",
      "9090/9090 [==============================] - 0s 11us/sample - loss: 74742238.4114 - val_loss: 74970976.2032\n",
      "Epoch 44/300\n",
      "9090/9090 [==============================] - 0s 11us/sample - loss: 74188414.7415 - val_loss: 74330387.5658\n",
      "Epoch 45/300\n",
      "9090/9090 [==============================] - 0s 10us/sample - loss: 73633522.7591 - val_loss: 73651958.5753\n",
      "Epoch 46/300\n",
      "9090/9090 [==============================] - 0s 11us/sample - loss: 73077633.8966 - val_loss: 73016117.0234\n",
      "Epoch 47/300\n",
      "9090/9090 [==============================] - 0s 11us/sample - loss: 72525768.0616 - val_loss: 72429160.1663\n",
      "Epoch 48/300\n",
      "9090/9090 [==============================] - 0s 11us/sample - loss: 71972019.3707 - val_loss: 71717786.2037\n",
      "Epoch 49/300\n",
      "9090/9090 [==============================] - 0s 11us/sample - loss: 71398721.4125 - val_loss: 71061164.5871\n",
      "Epoch 50/300\n",
      "9090/9090 [==============================] - 0s 11us/sample - loss: 70819280.3608 - val_loss: 70415217.4452\n",
      "Epoch 51/300\n",
      "9090/9090 [==============================] - 0s 11us/sample - loss: 70266103.3179 - val_loss: 69667064.3562\n",
      "Epoch 52/300\n",
      "9090/9090 [==============================] - 0s 11us/sample - loss: 69668893.9626 - val_loss: 69134121.5458\n",
      "Epoch 53/300\n",
      "9090/9090 [==============================] - 0s 11us/sample - loss: 69086747.6788 - val_loss: 68324739.2076\n",
      "Epoch 54/300\n",
      "9090/9090 [==============================] - 0s 11us/sample - loss: 68493818.9659 - val_loss: 67688723.4714\n",
      "Epoch 55/300\n",
      "9090/9090 [==============================] - 0s 11us/sample - loss: 67914504.5721 - val_loss: 67145724.4208\n",
      "Epoch 56/300\n",
      "9090/9090 [==============================] - 0s 10us/sample - loss: 67299018.9175 - val_loss: 66260805.0398\n",
      "Epoch 57/300\n",
      "9090/9090 [==============================] - 0s 10us/sample - loss: 66688369.2981 - val_loss: 65561630.1760\n",
      "Epoch 58/300\n",
      "9090/9090 [==============================] - 0s 10us/sample - loss: 66076977.5270 - val_loss: 64898701.8455\n",
      "Epoch 59/300\n",
      "9090/9090 [==============================] - 0s 10us/sample - loss: 65445032.9989 - val_loss: 64172718.3906\n",
      "Epoch 60/300\n",
      "9090/9090 [==============================] - 0s 10us/sample - loss: 64817754.7679 - val_loss: 63411042.2356\n",
      "Epoch 61/300\n",
      "9090/9090 [==============================] - 0s 10us/sample - loss: 64168496.9945 - val_loss: 62673955.9764\n",
      "Epoch 62/300\n",
      "9090/9090 [==============================] - 0s 10us/sample - loss: 63535606.0286 - val_loss: 61877545.4924\n",
      "Epoch 63/300\n",
      "9090/9090 [==============================] - 0s 10us/sample - loss: 62858097.3157 - val_loss: 61373267.9045\n",
      "Epoch 64/300\n",
      "9090/9090 [==============================] - 0s 10us/sample - loss: 62201391.5116 - val_loss: 60554570.1483\n",
      "Epoch 65/300\n",
      "9090/9090 [==============================] - 0s 10us/sample - loss: 61503678.9571 - val_loss: 59809576.7195\n",
      "Epoch 66/300\n",
      "9090/9090 [==============================] - 0s 10us/sample - loss: 60793466.5523 - val_loss: 58818960.6456\n",
      "Epoch 67/300\n",
      "9090/9090 [==============================] - 0s 10us/sample - loss: 60100235.8768 - val_loss: 58179009.0069\n",
      "Epoch 68/300\n",
      "9090/9090 [==============================] - 0s 10us/sample - loss: 59365247.9956 - val_loss: 57213537.2235\n",
      "Epoch 69/300\n",
      "9090/9090 [==============================] - 0s 10us/sample - loss: 58629796.1628 - val_loss: 56514481.2543\n",
      "Epoch 70/300\n",
      "9090/9090 [==============================] - 0s 10us/sample - loss: 57879381.0473 - val_loss: 55826369.5694\n",
      "Epoch 71/300\n",
      "9090/9090 [==============================] - 0s 10us/sample - loss: 57097204.6205 - val_loss: 54843307.0331\n",
      "Epoch 72/300\n",
      "9090/9090 [==============================] - 0s 10us/sample - loss: 56327268.0440 - val_loss: 54036732.4157\n",
      "Epoch 73/300\n",
      "9090/9090 [==============================] - 0s 10us/sample - loss: 55534950.6139 - val_loss: 53277370.7796\n",
      "Epoch 74/300\n",
      "9090/9090 [==============================] - 0s 9us/sample - loss: 54732764.4466 - val_loss: 52370376.2422\n",
      "Epoch 75/300\n",
      "9090/9090 [==============================] - 0s 10us/sample - loss: 53895717.7074 - val_loss: 51323696.1016\n",
      "Epoch 76/300\n",
      "9090/9090 [==============================] - 0s 10us/sample - loss: 53074586.2662 - val_loss: 50496628.3962\n",
      "Epoch 77/300\n",
      "9090/9090 [==============================] - 0s 9us/sample - loss: 52193298.2706 - val_loss: 49676725.4308\n",
      "Epoch 78/300\n",
      "9090/9090 [==============================] - 0s 9us/sample - loss: 51320455.4807 - val_loss: 48786824.6857\n",
      "Epoch 79/300\n",
      "9090/9090 [==============================] - 0s 9us/sample - loss: 50431669.5006 - val_loss: 47858033.3785\n",
      "Epoch 80/300\n",
      "9090/9090 [==============================] - 0s 9us/sample - loss: 49540565.2761 - val_loss: 46844390.4850\n",
      "Epoch 81/300\n",
      "9090/9090 [==============================] - 0s 9us/sample - loss: 48623445.2321 - val_loss: 46265856.5327\n",
      "Epoch 82/300\n",
      "9090/9090 [==============================] - 0s 9us/sample - loss: 47701339.2871 - val_loss: 45132594.4101\n",
      "Epoch 83/300\n",
      "9090/9090 [==============================] - 0s 9us/sample - loss: 46776031.3267 - val_loss: 44328820.9962\n",
      "Epoch 84/300\n",
      "9090/9090 [==============================] - 0s 9us/sample - loss: 45839616.3520 - val_loss: 43488832.6703\n",
      "Epoch 85/300\n",
      "9090/9090 [==============================] - 0s 9us/sample - loss: 44902089.8768 - val_loss: 42528867.3097\n",
      "Epoch 86/300\n",
      "9090/9090 [==============================] - 0s 9us/sample - loss: 43959910.7063 - val_loss: 41824640.2479\n",
      "Epoch 87/300\n",
      "9090/9090 [==============================] - 0s 10us/sample - loss: 43035759.3421 - val_loss: 40903179.6844\n",
      "Epoch 88/300\n",
      "9090/9090 [==============================] - 0s 9us/sample - loss: 42071324.3388 - val_loss: 40165904.5317\n",
      "Epoch 89/300\n",
      "9090/9090 [==============================] - 0s 9us/sample - loss: 41144896.3454 - val_loss: 39202493.0346\n",
      "Epoch 90/300\n",
      "9090/9090 [==============================] - 0s 9us/sample - loss: 40200301.0781 - val_loss: 38434474.4665\n",
      "Epoch 91/300\n",
      "9090/9090 [==============================] - 0s 10us/sample - loss: 39279402.6007 - val_loss: 37322328.5620\n",
      "Epoch 92/300\n",
      "9090/9090 [==============================] - 0s 10us/sample - loss: 38378504.9571 - val_loss: 37065553.5001\n",
      "Epoch 93/300\n",
      "9090/9090 [==============================] - 0s 10us/sample - loss: 37496910.2134 - val_loss: 36011386.7529\n",
      "Epoch 94/300\n",
      "9090/9090 [==============================] - 0s 10us/sample - loss: 36650388.7393 - val_loss: 35689123.7270\n",
      "Epoch 95/300\n",
      "9090/9090 [==============================] - 0s 10us/sample - loss: 35820218.5963 - val_loss: 34941197.4842\n",
      "Epoch 96/300\n",
      "9090/9090 [==============================] - 0s 10us/sample - loss: 34997876.8845 - val_loss: 34417511.2651\n",
      "Epoch 97/300\n",
      "9090/9090 [==============================] - 0s 10us/sample - loss: 34218578.5039 - val_loss: 33743637.4632\n",
      "Epoch 98/300\n",
      "9090/9090 [==============================] - 0s 10us/sample - loss: 33451887.7206 - val_loss: 33564031.6905\n",
      "Epoch 99/300\n",
      "9090/9090 [==============================] - 0s 10us/sample - loss: 32710600.8537 - val_loss: 33063543.7588\n",
      "Epoch 100/300\n",
      "9090/9090 [==============================] - 0s 10us/sample - loss: 31984887.0363 - val_loss: 32320450.7955\n",
      "Epoch 101/300\n",
      "9090/9090 [==============================] - 0s 10us/sample - loss: 31329464.1430 - val_loss: 31702093.5633\n",
      "Epoch 102/300\n",
      "9090/9090 [==============================] - 0s 9us/sample - loss: 30687680.6359 - val_loss: 32156964.2484\n",
      "Epoch 103/300\n",
      "9090/9090 [==============================] - 0s 9us/sample - loss: 30086421.4961 - val_loss: 30826971.7023\n",
      "Epoch 104/300\n",
      "9090/9090 [==============================] - 0s 9us/sample - loss: 29511448.2662 - val_loss: 30966738.2084\n",
      "Epoch 105/300\n",
      "9090/9090 [==============================] - 0s 10us/sample - loss: 28969759.5314 - val_loss: 30510642.1950\n",
      "Epoch 106/300\n",
      "9090/9090 [==============================] - 0s 9us/sample - loss: 28458487.6700 - val_loss: 30233179.8122\n",
      "Epoch 107/300\n",
      "9090/9090 [==============================] - 0s 9us/sample - loss: 27997833.6788 - val_loss: 30127124.1632\n",
      "Epoch 108/300\n",
      "9090/9090 [==============================] - 0s 9us/sample - loss: 27570460.3432 - val_loss: 29981484.4876\n",
      "Epoch 109/300\n",
      "9090/9090 [==============================] - 0s 9us/sample - loss: 27172116.7745 - val_loss: 29599099.1039\n",
      "Epoch 110/300\n",
      "9090/9090 [==============================] - 0s 9us/sample - loss: 26778681.5468 - val_loss: 29116052.3983\n",
      "Epoch 111/300\n",
      "9090/9090 [==============================] - 0s 10us/sample - loss: 26409956.1969 - val_loss: 29019351.2338\n",
      "Epoch 112/300\n",
      "9090/9090 [==============================] - 0s 9us/sample - loss: 26023801.8526 - val_loss: 29006273.2717\n",
      "Epoch 113/300\n",
      "9090/9090 [==============================] - 0s 9us/sample - loss: 25682731.1738 - val_loss: 28605337.0049\n",
      "Epoch 114/300\n",
      "9090/9090 [==============================] - 0s 9us/sample - loss: 25392092.0572 - val_loss: 28119223.9338\n",
      "Epoch 115/300\n",
      "9090/9090 [==============================] - 0s 9us/sample - loss: 25103690.7668 - val_loss: 28437244.5450\n",
      "Epoch 116/300\n",
      "9090/9090 [==============================] - 0s 9us/sample - loss: 24823213.3157 - val_loss: 28259683.3800\n",
      "Epoch 117/300\n",
      "9090/9090 [==============================] - 0s 9us/sample - loss: 24581412.9703 - val_loss: 27904732.1483\n",
      "Epoch 118/300\n",
      "9090/9090 [==============================] - 0s 9us/sample - loss: 24366788.4092 - val_loss: 27949008.2238\n",
      "Epoch 119/300\n",
      "9090/9090 [==============================] - 0s 9us/sample - loss: 24193745.1474 - val_loss: 27483570.6903\n",
      "Epoch 120/300\n",
      "9090/9090 [==============================] - 0s 10us/sample - loss: 23946979.0341 - val_loss: 27795676.4588\n",
      "Epoch 121/300\n",
      "9090/9090 [==============================] - 0s 10us/sample - loss: 23722259.2497 - val_loss: 27593385.3703\n",
      "Epoch 122/300\n",
      "9090/9090 [==============================] - 0s 10us/sample - loss: 23562463.5490 - val_loss: 27271341.2148\n",
      "Epoch 123/300\n",
      "9090/9090 [==============================] - 0s 10us/sample - loss: 23378137.2750 - val_loss: 26884971.1640\n",
      "Epoch 124/300\n",
      "9090/9090 [==============================] - 0s 10us/sample - loss: 23244628.9593 - val_loss: 26772951.4334\n",
      "Epoch 125/300\n",
      "9090/9090 [==============================] - 0s 10us/sample - loss: 23106436.8086 - val_loss: 27141322.1586\n",
      "Epoch 126/300\n",
      "9090/9090 [==============================] - 0s 10us/sample - loss: 22977500.2024 - val_loss: 26643207.1221\n",
      "Epoch 127/300\n",
      "9090/9090 [==============================] - 0s 10us/sample - loss: 22839083.7613 - val_loss: 27915703.7023\n",
      "Epoch 128/300\n",
      "9090/9090 [==============================] - 0s 10us/sample - loss: 22792758.6601 - val_loss: 26679525.4457\n",
      "Epoch 129/300\n",
      "9090/9090 [==============================] - 0s 10us/sample - loss: 22674403.2607 - val_loss: 26883051.8737\n",
      "Epoch 130/300\n",
      "9090/9090 [==============================] - 0s 10us/sample - loss: 22615337.1540 - val_loss: 26848306.3385\n",
      "Epoch 131/300\n",
      "9090/9090 [==============================] - 0s 10us/sample - loss: 22514496.5875 - val_loss: 27370746.9849\n",
      "Epoch 132/300\n",
      "9090/9090 [==============================] - 0s 9us/sample - loss: 22437184.9362 - val_loss: 26725548.8029\n",
      "Epoch 133/300\n",
      "9090/9090 [==============================] - 0s 9us/sample - loss: 22375169.5534 - val_loss: 26327413.3526\n",
      "Epoch 134/300\n",
      "9090/9090 [==============================] - 0s 9us/sample - loss: 22328543.2596 - val_loss: 25950105.5060\n",
      "Epoch 135/300\n",
      "9090/9090 [==============================] - 0s 9us/sample - loss: 22300753.7437 - val_loss: 26457778.1730\n"
     ]
    },
    {
     "name": "stdout",
     "output_type": "stream",
     "text": [
      "Epoch 136/300\n",
      "9090/9090 [==============================] - 0s 9us/sample - loss: 22201881.1309 - val_loss: 26437777.0739\n",
      "Epoch 137/300\n",
      "9090/9090 [==============================] - 0s 9us/sample - loss: 22145693.5204 - val_loss: 26293860.6600\n",
      "Epoch 138/300\n",
      "9090/9090 [==============================] - 0s 9us/sample - loss: 22087952.8482 - val_loss: 26457598.3013\n",
      "Epoch 139/300\n",
      "9090/9090 [==============================] - 0s 9us/sample - loss: 22036904.6524 - val_loss: 26162722.9489\n",
      "Epoch 140/300\n",
      "9090/9090 [==============================] - 0s 9us/sample - loss: 21972304.9439 - val_loss: 27710323.2456\n",
      "Epoch 141/300\n",
      "9090/9090 [==============================] - 0s 9us/sample - loss: 21967124.8086 - val_loss: 26136005.6192\n",
      "Epoch 142/300\n",
      "9090/9090 [==============================] - 0s 9us/sample - loss: 21882532.4323 - val_loss: 26197043.5953\n",
      "Epoch 143/300\n",
      "9090/9090 [==============================] - 0s 10us/sample - loss: 21845793.7228 - val_loss: 27036268.0216\n",
      "Epoch 144/300\n",
      "9090/9090 [==============================] - 0s 9us/sample - loss: 21862969.2409 - val_loss: 26862142.2309\n",
      "Epoch 145/300\n",
      "9090/9090 [==============================] - 0s 10us/sample - loss: 21805470.1012 - val_loss: 26021149.1334\n",
      "Epoch 146/300\n",
      "9090/9090 [==============================] - 0s 9us/sample - loss: 21698161.4147 - val_loss: 26021497.7683\n",
      "Epoch 147/300\n",
      "9090/9090 [==============================] - 0s 9us/sample - loss: 21662949.2838 - val_loss: 26164007.5335\n",
      "Epoch 148/300\n",
      "9090/9090 [==============================] - 0s 9us/sample - loss: 21609349.5952 - val_loss: 26326491.6841\n",
      "Epoch 149/300\n",
      "9090/9090 [==============================] - 0s 9us/sample - loss: 21577910.4565 - val_loss: 25867128.8899\n",
      "Epoch 150/300\n",
      "9090/9090 [==============================] - 0s 9us/sample - loss: 21528926.3586 - val_loss: 25957060.6053\n",
      "Epoch 151/300\n",
      "9090/9090 [==============================] - 0s 9us/sample - loss: 21472784.3289 - val_loss: 25788993.4306\n",
      "Epoch 152/300\n",
      "9090/9090 [==============================] - 0s 9us/sample - loss: 21435195.9582 - val_loss: 25915688.5350\n",
      "Epoch 153/300\n",
      "9090/9090 [==============================] - 0s 9us/sample - loss: 21416444.7734 - val_loss: 25714699.3539\n",
      "Epoch 154/300\n",
      "9090/9090 [==============================] - 0s 10us/sample - loss: 21348284.4092 - val_loss: 26946205.2700\n",
      "Epoch 155/300\n",
      "9090/9090 [==============================] - 0s 10us/sample - loss: 21373441.1870 - val_loss: 26551955.4647\n",
      "Epoch 156/300\n",
      "9090/9090 [==============================] - 0s 10us/sample - loss: 21268586.3399 - val_loss: 25815555.3888\n",
      "Epoch 157/300\n",
      "9090/9090 [==============================] - 0s 10us/sample - loss: 21207077.6513 - val_loss: 25279238.2892\n",
      "Epoch 158/300\n",
      "9090/9090 [==============================] - 0s 10us/sample - loss: 21171794.8427 - val_loss: 25610086.6987\n",
      "Epoch 159/300\n",
      "9090/9090 [==============================] - 0s 10us/sample - loss: 21116302.6304 - val_loss: 25319836.6844\n",
      "Epoch 160/300\n",
      "9090/9090 [==============================] - 0s 10us/sample - loss: 21085465.5127 - val_loss: 24700601.4745\n",
      "Epoch 161/300\n",
      "9090/9090 [==============================] - 0s 10us/sample - loss: 21028418.9549 - val_loss: 25719062.6341\n",
      "Epoch 162/300\n",
      "9090/9090 [==============================] - 0s 10us/sample - loss: 21000513.9296 - val_loss: 25551822.8032\n",
      "Epoch 163/300\n",
      "9090/9090 [==============================] - 0s 10us/sample - loss: 20973339.9351 - val_loss: 25643484.1637\n",
      "Epoch 164/300\n",
      "9090/9090 [==============================] - 0s 10us/sample - loss: 20916331.2189 - val_loss: 24819921.9766\n",
      "Epoch 165/300\n",
      "9090/9090 [==============================] - 0s 10us/sample - loss: 20871532.4510 - val_loss: 24950880.1455\n",
      "Epoch 166/300\n",
      "9090/9090 [==============================] - 0s 9us/sample - loss: 20834432.4224 - val_loss: 25305682.8714\n",
      "Epoch 167/300\n",
      "9090/9090 [==============================] - 0s 9us/sample - loss: 20810011.9439 - val_loss: 24999393.9084\n",
      "Epoch 168/300\n",
      "9090/9090 [==============================] - 0s 10us/sample - loss: 20758011.4015 - val_loss: 25062672.8589\n",
      "Epoch 169/300\n",
      "9090/9090 [==============================] - 0s 9us/sample - loss: 20711154.4147 - val_loss: 25020599.4244\n",
      "Epoch 170/300\n",
      "9090/9090 [==============================] - 0s 10us/sample - loss: 20682939.7976 - val_loss: 24698757.4224\n",
      "Epoch 171/300\n",
      "9090/9090 [==============================] - 0s 10us/sample - loss: 20646807.5985 - val_loss: 24484688.7478\n",
      "Epoch 172/300\n",
      "9090/9090 [==============================] - 0s 10us/sample - loss: 20612154.6293 - val_loss: 24588769.3549\n",
      "Epoch 173/300\n",
      "9090/9090 [==============================] - 0s 10us/sample - loss: 20586612.7635 - val_loss: 24541397.2972\n",
      "Epoch 174/300\n",
      "9090/9090 [==============================] - 0s 10us/sample - loss: 20536092.9593 - val_loss: 24982965.6256\n",
      "Epoch 175/300\n",
      "9090/9090 [==============================] - 0s 10us/sample - loss: 20482015.3883 - val_loss: 24069331.3431\n",
      "Epoch 176/300\n",
      "9090/9090 [==============================] - 0s 10us/sample - loss: 20484837.8900 - val_loss: 24934181.5912\n",
      "Epoch 177/300\n",
      "9090/9090 [==============================] - 0s 10us/sample - loss: 20453899.4081 - val_loss: 24569413.7572\n",
      "Epoch 178/300\n",
      "9090/9090 [==============================] - 0s 10us/sample - loss: 20410969.0957 - val_loss: 24317609.0860\n",
      "Epoch 179/300\n",
      "9090/9090 [==============================] - 0s 9us/sample - loss: 20358230.8361 - val_loss: 24317885.9294\n",
      "Epoch 180/300\n",
      "9090/9090 [==============================] - 0s 9us/sample - loss: 20309237.4862 - val_loss: 24787888.7126\n",
      "Epoch 181/300\n",
      "9090/9090 [==============================] - 0s 10us/sample - loss: 20308917.4026 - val_loss: 24847473.3431\n",
      "Epoch 182/300\n",
      "9090/9090 [==============================] - 0s 9us/sample - loss: 20286219.2970 - val_loss: 24041355.2048\n",
      "Epoch 183/300\n",
      "9090/9090 [==============================] - 0s 9us/sample - loss: 20285572.3696 - val_loss: 24286077.7224\n",
      "Epoch 184/300\n",
      "9090/9090 [==============================] - 0s 10us/sample - loss: 20200613.0231 - val_loss: 24423954.0121\n",
      "Epoch 185/300\n",
      "9090/9090 [==============================] - 0s 10us/sample - loss: 20176126.0561 - val_loss: 24040076.9967\n",
      "Epoch 186/300\n",
      "9090/9090 [==============================] - 0s 10us/sample - loss: 20138931.5039 - val_loss: 24372698.5142\n",
      "Epoch 187/300\n",
      "9090/9090 [==============================] - 0s 10us/sample - loss: 20123189.5578 - val_loss: 23992605.6423\n",
      "Epoch 188/300\n",
      "9090/9090 [==============================] - 0s 10us/sample - loss: 20099486.9153 - val_loss: 24261371.0341\n",
      "Epoch 189/300\n",
      "9090/9090 [==============================] - 0s 10us/sample - loss: 20056712.0748 - val_loss: 23594962.7809\n",
      "Epoch 190/300\n",
      "9090/9090 [==============================] - 0s 10us/sample - loss: 20054820.9714 - val_loss: 24157719.6972\n",
      "Epoch 191/300\n",
      "9090/9090 [==============================] - 0s 10us/sample - loss: 20032656.2618 - val_loss: 24361205.9253\n",
      "Epoch 192/300\n",
      "9090/9090 [==============================] - 0s 10us/sample - loss: 20020705.9637 - val_loss: 23717734.3333\n",
      "Epoch 193/300\n",
      "9090/9090 [==============================] - 0s 10us/sample - loss: 20005858.8251 - val_loss: 23690956.7324\n",
      "Epoch 194/300\n",
      "9090/9090 [==============================] - 0s 10us/sample - loss: 19993841.9164 - val_loss: 23885589.6189\n",
      "Epoch 195/300\n",
      "9090/9090 [==============================] - 0s 10us/sample - loss: 19953751.9186 - val_loss: 23976936.5340\n",
      "Epoch 196/300\n",
      "9090/9090 [==============================] - 0s 10us/sample - loss: 19955119.3190 - val_loss: 23984777.0185\n",
      "Epoch 197/300\n",
      "9090/9090 [==============================] - 0s 9us/sample - loss: 19925518.3883 - val_loss: 24202565.1506\n",
      "Epoch 198/300\n",
      "9090/9090 [==============================] - 0s 9us/sample - loss: 19888253.1760 - val_loss: 24072541.1160\n",
      "Epoch 199/300\n",
      "9090/9090 [==============================] - 0s 11us/sample - loss: 19888328.0770 - val_loss: 24184827.5142\n",
      "Epoch 200/300\n",
      "9090/9090 [==============================] - 0s 10us/sample - loss: 19901721.6700 - val_loss: 24103386.0316\n",
      "Epoch 201/300\n",
      "9090/9090 [==============================] - 0s 11us/sample - loss: 19842037.7767 - val_loss: 23720789.0639\n",
      "Epoch 202/300\n",
      "9090/9090 [==============================] - 0s 11us/sample - loss: 19815154.9637 - val_loss: 23557976.3995\n",
      "Epoch 203/300\n",
      "9090/9090 [==============================] - 0s 11us/sample - loss: 19802820.4378 - val_loss: 23476887.5255\n",
      "Epoch 204/300\n",
      "9090/9090 [==============================] - 0s 11us/sample - loss: 19789291.7844 - val_loss: 24077025.7575\n",
      "Epoch 205/300\n",
      "9090/9090 [==============================] - 0s 10us/sample - loss: 19758164.1397 - val_loss: 23850941.8178\n",
      "Epoch 206/300\n",
      "9090/9090 [==============================] - 0s 11us/sample - loss: 19734581.0407 - val_loss: 23733302.5848\n",
      "Epoch 207/300\n",
      "9090/9090 [==============================] - 0s 11us/sample - loss: 19719556.3322 - val_loss: 23687686.0988\n",
      "Epoch 208/300\n",
      "9090/9090 [==============================] - 0s 12us/sample - loss: 19703181.2629 - val_loss: 23706342.8971\n",
      "Epoch 209/300\n",
      "9090/9090 [==============================] - 0s 11us/sample - loss: 19693418.1210 - val_loss: 23351222.3680\n",
      "Epoch 210/300\n",
      "9090/9090 [==============================] - 0s 10us/sample - loss: 19664914.3542 - val_loss: 23851651.2543\n",
      "Epoch 211/300\n",
      "9090/9090 [==============================] - 0s 10us/sample - loss: 19702319.2926 - val_loss: 23372861.9882\n",
      "Epoch 212/300\n",
      "9090/9090 [==============================] - 0s 9us/sample - loss: 19643810.8592 - val_loss: 23714122.9936\n",
      "Epoch 213/300\n",
      "9090/9090 [==============================] - 0s 9us/sample - loss: 19629400.8867 - val_loss: 23492630.4678\n",
      "Epoch 214/300\n",
      "9090/9090 [==============================] - 0s 9us/sample - loss: 19623089.2552 - val_loss: 23848514.8414\n",
      "Epoch 215/300\n",
      "9090/9090 [==============================] - 0s 9us/sample - loss: 19631080.3377 - val_loss: 24015929.4970\n",
      "Epoch 216/300\n",
      "9090/9090 [==============================] - 0s 9us/sample - loss: 19577451.1507 - val_loss: 23904044.1540\n",
      "Epoch 217/300\n",
      "9090/9090 [==============================] - 0s 9us/sample - loss: 19575329.5974 - val_loss: 23930190.0041\n",
      "Epoch 218/300\n",
      "9090/9090 [==============================] - 0s 9us/sample - loss: 19581097.6205 - val_loss: 23397997.9695\n",
      "Epoch 219/300\n",
      "9090/9090 [==============================] - 0s 9us/sample - loss: 19539389.0770 - val_loss: 23122854.4657\n",
      "Epoch 220/300\n",
      "9090/9090 [==============================] - 0s 10us/sample - loss: 19515144.6876 - val_loss: 23344932.9985\n",
      "Epoch 221/300\n",
      "9090/9090 [==============================] - 0s 10us/sample - loss: 19485682.7635 - val_loss: 24218176.3043\n",
      "Epoch 222/300\n",
      "9090/9090 [==============================] - 0s 10us/sample - loss: 19504173.6986 - val_loss: 23173634.7488\n",
      "Epoch 223/300\n",
      "9090/9090 [==============================] - 0s 9us/sample - loss: 19475410.3531 - val_loss: 23590870.4660\n",
      "Epoch 224/300\n",
      "9090/9090 [==============================] - 0s 9us/sample - loss: 19467570.6865 - val_loss: 23292655.9895\n",
      "Epoch 225/300\n",
      "9090/9090 [==============================] - 0s 9us/sample - loss: 19458104.1166 - val_loss: 22738640.8689\n",
      "Epoch 226/300\n",
      "9090/9090 [==============================] - 0s 10us/sample - loss: 19456370.4180 - val_loss: 22895309.9045\n",
      "Epoch 227/300\n",
      "9090/9090 [==============================] - 0s 10us/sample - loss: 19415266.9417 - val_loss: 23389082.2335\n",
      "Epoch 228/300\n",
      "9090/9090 [==============================] - 0s 10us/sample - loss: 19390542.6447 - val_loss: 23189675.6171\n",
      "Epoch 229/300\n",
      "9090/9090 [==============================] - 0s 10us/sample - loss: 19394858.4994 - val_loss: 23584453.8353\n",
      "Epoch 230/300\n",
      "9090/9090 [==============================] - 0s 10us/sample - loss: 19367911.4686 - val_loss: 23005588.3090\n",
      "Epoch 231/300\n",
      "9090/9090 [==============================] - 0s 10us/sample - loss: 19368484.6007 - val_loss: 23005387.9564\n",
      "Epoch 232/300\n",
      "9090/9090 [==============================] - 0s 10us/sample - loss: 19397260.2189 - val_loss: 22813949.4496\n",
      "Epoch 233/300\n",
      "9090/9090 [==============================] - 0s 9us/sample - loss: 19390419.7569 - val_loss: 22854463.6082\n",
      "Epoch 234/300\n",
      "9090/9090 [==============================] - 0s 9us/sample - loss: 19307172.1419 - val_loss: 23520604.8992\n",
      "Epoch 235/300\n",
      "9090/9090 [==============================] - 0s 10us/sample - loss: 19307185.3894 - val_loss: 23465871.5284\n",
      "Epoch 236/300\n",
      "9090/9090 [==============================] - 0s 10us/sample - loss: 19294363.0341 - val_loss: 23666659.8147\n",
      "Epoch 237/300\n",
      "9090/9090 [==============================] - 0s 10us/sample - loss: 19277472.3729 - val_loss: 23155957.8966\n",
      "Epoch 238/300\n",
      "9090/9090 [==============================] - 0s 9us/sample - loss: 19267409.6546 - val_loss: 23202496.0449\n",
      "Epoch 239/300\n",
      "9090/9090 [==============================] - 0s 10us/sample - loss: 19263897.2057 - val_loss: 23365406.2320\n",
      "Epoch 240/300\n",
      "9090/9090 [==============================] - 0s 10us/sample - loss: 19237435.0418 - val_loss: 23123267.9294\n",
      "Epoch 241/300\n",
      "9090/9090 [==============================] - 0s 10us/sample - loss: 19260634.4389 - val_loss: 22912230.7911\n",
      "Epoch 242/300\n",
      "9090/9090 [==============================] - 0s 10us/sample - loss: 19220038.2728 - val_loss: 23055392.3746\n",
      "Epoch 243/300\n",
      "9090/9090 [==============================] - 0s 10us/sample - loss: 19208372.0055 - val_loss: 23228443.2653\n",
      "Epoch 244/300\n",
      "9090/9090 [==============================] - 0s 10us/sample - loss: 19209887.6227 - val_loss: 23088005.3664\n",
      "Epoch 245/300\n",
      "9090/9090 [==============================] - 0s 10us/sample - loss: 19191230.9065 - val_loss: 23297501.8389\n",
      "Epoch 246/300\n",
      "9090/9090 [==============================] - 0s 10us/sample - loss: 19166817.5963 - val_loss: 23414562.0973\n",
      "Epoch 247/300\n",
      "9090/9090 [==============================] - 0s 10us/sample - loss: 19175618.5776 - val_loss: 23463159.3295\n",
      "Epoch 248/300\n",
      "9090/9090 [==============================] - 0s 9us/sample - loss: 19176245.5325 - val_loss: 22957170.1067\n",
      "Epoch 249/300\n",
      "9090/9090 [==============================] - 0s 10us/sample - loss: 19131395.3113 - val_loss: 22905724.1280\n",
      "Epoch 250/300\n",
      "9090/9090 [==============================] - 0s 10us/sample - loss: 19141119.3696 - val_loss: 22517935.8861\n",
      "Epoch 251/300\n",
      "9090/9090 [==============================] - 0s 10us/sample - loss: 19148824.1672 - val_loss: 22495915.4783\n",
      "Epoch 252/300\n",
      "9090/9090 [==============================] - 0s 10us/sample - loss: 19114389.8834 - val_loss: 22975337.2402\n",
      "Epoch 253/300\n",
      "9090/9090 [==============================] - 0s 10us/sample - loss: 19094717.3223 - val_loss: 22868866.0144\n",
      "Epoch 254/300\n",
      "9090/9090 [==============================] - 0s 10us/sample - loss: 19087177.9153 - val_loss: 22814231.0565\n",
      "Epoch 255/300\n",
      "9090/9090 [==============================] - 0s 10us/sample - loss: 19084550.1056 - val_loss: 22982210.2345\n",
      "Epoch 256/300\n",
      "9090/9090 [==============================] - 0s 10us/sample - loss: 19068976.8471 - val_loss: 22800911.5289\n",
      "Epoch 257/300\n",
      "9090/9090 [==============================] - 0s 10us/sample - loss: 19059334.2651 - val_loss: 22771309.6423\n",
      "Epoch 258/300\n",
      "9090/9090 [==============================] - 0s 10us/sample - loss: 19035363.3344 - val_loss: 22596140.1127\n",
      "Epoch 259/300\n",
      "9090/9090 [==============================] - 0s 9us/sample - loss: 19042831.0407 - val_loss: 22901331.3118\n",
      "Epoch 260/300\n",
      "9090/9090 [==============================] - 0s 10us/sample - loss: 19029364.3135 - val_loss: 22756497.5538\n",
      "Epoch 261/300\n",
      "9090/9090 [==============================] - 0s 10us/sample - loss: 19046809.9186 - val_loss: 22619714.0098\n",
      "Epoch 262/300\n",
      "9090/9090 [==============================] - 0s 10us/sample - loss: 18997019.7624 - val_loss: 23378645.9913\n",
      "Epoch 263/300\n",
      "9090/9090 [==============================] - 0s 10us/sample - loss: 19049877.2134 - val_loss: 22715754.2086\n",
      "Epoch 264/300\n",
      "9090/9090 [==============================] - 0s 9us/sample - loss: 18991183.6568 - val_loss: 22445196.6672\n",
      "Epoch 265/300\n",
      "9090/9090 [==============================] - 0s 9us/sample - loss: 18974466.1606 - val_loss: 22425669.5353\n",
      "Epoch 266/300\n",
      "9090/9090 [==============================] - 0s 9us/sample - loss: 18966993.7899 - val_loss: 22541157.8761\n",
      "Epoch 267/300\n",
      "9090/9090 [==============================] - 0s 10us/sample - loss: 18959537.7184 - val_loss: 22763476.9435\n",
      "Epoch 268/300\n",
      "9090/9090 [==============================] - 0s 9us/sample - loss: 18934667.4378 - val_loss: 22745499.7855\n",
      "Epoch 269/300\n",
      "9090/9090 [==============================] - 0s 9us/sample - loss: 18935623.5116 - val_loss: 22713615.4527\n",
      "Epoch 270/300\n"
     ]
    },
    {
     "name": "stdout",
     "output_type": "stream",
     "text": [
      "9090/9090 [==============================] - 0s 10us/sample - loss: 18929153.8240 - val_loss: 23244502.4732\n",
      "Epoch 271/300\n",
      "9090/9090 [==============================] - 0s 9us/sample - loss: 18948609.1089 - val_loss: 23008237.7670\n",
      "Epoch 272/300\n",
      "9090/9090 [==============================] - 0s 9us/sample - loss: 18907667.8163 - val_loss: 22847064.4527\n",
      "Epoch 273/300\n",
      "9090/9090 [==============================] - 0s 9us/sample - loss: 18908348.0330 - val_loss: 22585277.7454\n",
      "Epoch 274/300\n",
      "9090/9090 [==============================] - 0s 9us/sample - loss: 18911265.8130 - val_loss: 22350804.5073\n",
      "Epoch 275/300\n",
      "9090/9090 [==============================] - 0s 9us/sample - loss: 18882472.8537 - val_loss: 22343448.7236\n",
      "Epoch 276/300\n",
      "9090/9090 [==============================] - 0s 9us/sample - loss: 18902759.4642 - val_loss: 22666464.7909\n",
      "Epoch 277/300\n",
      "9090/9090 [==============================] - 0s 9us/sample - loss: 18845475.5611 - val_loss: 22933176.1499\n",
      "Epoch 278/300\n",
      "9090/9090 [==============================] - 0s 9us/sample - loss: 18831254.5886 - val_loss: 22527092.4414\n",
      "Epoch 279/300\n",
      "9090/9090 [==============================] - 0s 9us/sample - loss: 18836879.3586 - val_loss: 22645499.1016\n",
      "Epoch 280/300\n",
      "9090/9090 [==============================] - 0s 9us/sample - loss: 18848667.2607 - val_loss: 22597396.3136\n",
      "Epoch 281/300\n",
      "9090/9090 [==============================] - 0s 9us/sample - loss: 18826027.2431 - val_loss: 22500153.5779\n",
      "Epoch 282/300\n",
      "9090/9090 [==============================] - 0s 9us/sample - loss: 18808550.4807 - val_loss: 22543400.9038\n",
      "Epoch 283/300\n",
      "9090/9090 [==============================] - 0s 9us/sample - loss: 18790538.5864 - val_loss: 22915736.9015\n",
      "Epoch 284/300\n",
      "9090/9090 [==============================] - 0s 9us/sample - loss: 18828103.6403 - val_loss: 22360215.0896\n",
      "Epoch 285/300\n",
      "9090/9090 [==============================] - 0s 9us/sample - loss: 18767971.5930 - val_loss: 22065951.7218\n",
      "Epoch 286/300\n",
      "9090/9090 [==============================] - 0s 9us/sample - loss: 18792654.4444 - val_loss: 22880657.6287\n",
      "Epoch 287/300\n",
      "9090/9090 [==============================] - 0s 9us/sample - loss: 18760057.8790 - val_loss: 22307190.7411\n",
      "Epoch 288/300\n",
      "9090/9090 [==============================] - 0s 9us/sample - loss: 18762172.2233 - val_loss: 22598751.9502\n",
      "Epoch 289/300\n",
      "9090/9090 [==============================] - 0s 9us/sample - loss: 18742797.4763 - val_loss: 22776931.7313\n",
      "Epoch 290/300\n",
      "9090/9090 [==============================] - 0s 9us/sample - loss: 18770713.5303 - val_loss: 22421336.3713\n",
      "Epoch 291/300\n",
      "9090/9090 [==============================] - 0s 9us/sample - loss: 18745567.7448 - val_loss: 22654546.6721\n",
      "Epoch 292/300\n",
      "9090/9090 [==============================] - 0s 9us/sample - loss: 18712748.4433 - val_loss: 22171903.1568\n",
      "Epoch 293/300\n",
      "9090/9090 [==============================] - 0s 9us/sample - loss: 18725128.7019 - val_loss: 22447215.8758\n",
      "Epoch 294/300\n",
      "9090/9090 [==============================] - 0s 9us/sample - loss: 18701985.8658 - val_loss: 22067032.2507\n",
      "Epoch 295/300\n",
      "9090/9090 [==============================] - 0s 9us/sample - loss: 18695732.1012 - val_loss: 22029506.4814\n",
      "Epoch 296/300\n",
      "9090/9090 [==============================] - 0s 9us/sample - loss: 18687468.1958 - val_loss: 22935130.2017\n",
      "Epoch 297/300\n",
      "9090/9090 [==============================] - 0s 9us/sample - loss: 18681702.9615 - val_loss: 22399990.9551\n",
      "Epoch 298/300\n",
      "9090/9090 [==============================] - 0s 9us/sample - loss: 18650674.2739 - val_loss: 23211045.4444\n",
      "Epoch 299/300\n",
      "9090/9090 [==============================] - 0s 9us/sample - loss: 18684102.4609 - val_loss: 22325191.5522\n",
      "Epoch 300/300\n",
      "9090/9090 [==============================] - 0s 9us/sample - loss: 18658352.8680 - val_loss: 21974107.4126\n"
     ]
    },
    {
     "data": {
      "text/plain": [
       "<tensorflow.python.keras.callbacks.History at 0x7fd2b4357e10>"
      ]
     },
     "execution_count": 72,
     "metadata": {},
     "output_type": "execute_result"
    }
   ],
   "source": [
    "model.fit(x = x_train, y = y_train, validation_data = (x_test, y_test), batch_size = 250,epochs = 300)"
   ]
  },
  {
   "cell_type": "markdown",
   "id": "2893ba80",
   "metadata": {},
   "source": [
    "# Şimdi Eğitim Değerlendirmesi"
   ]
  },
  {
   "cell_type": "markdown",
   "id": "1e2cef20",
   "metadata": {},
   "source": [
    "### Eğitim sonuçlarını alıyoruz"
   ]
  },
  {
   "cell_type": "code",
   "execution_count": 73,
   "id": "e8836fc8",
   "metadata": {},
   "outputs": [],
   "source": [
    "kayipVeri = pd.DataFrame(model.history.history)"
   ]
  },
  {
   "cell_type": "code",
   "execution_count": 74,
   "id": "f4bd548f",
   "metadata": {},
   "outputs": [
    {
     "data": {
      "text/html": [
       "<div>\n",
       "<style scoped>\n",
       "    .dataframe tbody tr th:only-of-type {\n",
       "        vertical-align: middle;\n",
       "    }\n",
       "\n",
       "    .dataframe tbody tr th {\n",
       "        vertical-align: top;\n",
       "    }\n",
       "\n",
       "    .dataframe thead th {\n",
       "        text-align: right;\n",
       "    }\n",
       "</style>\n",
       "<table border=\"1\" class=\"dataframe\">\n",
       "  <thead>\n",
       "    <tr style=\"text-align: right;\">\n",
       "      <th></th>\n",
       "      <th>loss</th>\n",
       "      <th>val_loss</th>\n",
       "    </tr>\n",
       "  </thead>\n",
       "  <tbody>\n",
       "    <tr>\n",
       "      <th>0</th>\n",
       "      <td>6.721404e+08</td>\n",
       "      <td>6.880904e+08</td>\n",
       "    </tr>\n",
       "    <tr>\n",
       "      <th>1</th>\n",
       "      <td>6.720931e+08</td>\n",
       "      <td>6.880034e+08</td>\n",
       "    </tr>\n",
       "    <tr>\n",
       "      <th>2</th>\n",
       "      <td>6.719259e+08</td>\n",
       "      <td>6.876890e+08</td>\n",
       "    </tr>\n",
       "    <tr>\n",
       "      <th>3</th>\n",
       "      <td>6.713399e+08</td>\n",
       "      <td>6.866276e+08</td>\n",
       "    </tr>\n",
       "    <tr>\n",
       "      <th>4</th>\n",
       "      <td>6.694754e+08</td>\n",
       "      <td>6.833941e+08</td>\n",
       "    </tr>\n",
       "  </tbody>\n",
       "</table>\n",
       "</div>"
      ],
      "text/plain": [
       "           loss      val_loss\n",
       "0  6.721404e+08  6.880904e+08\n",
       "1  6.720931e+08  6.880034e+08\n",
       "2  6.719259e+08  6.876890e+08\n",
       "3  6.713399e+08  6.866276e+08\n",
       "4  6.694754e+08  6.833941e+08"
      ]
     },
     "execution_count": 74,
     "metadata": {},
     "output_type": "execute_result"
    }
   ],
   "source": [
    "kayipVeri.head()"
   ]
  },
  {
   "cell_type": "markdown",
   "id": "a787e0ce",
   "metadata": {},
   "source": [
    "### Grafikleştirip eğitimin kalitesine bakıyoruz."
   ]
  },
  {
   "cell_type": "code",
   "execution_count": 75,
   "id": "785b83cf",
   "metadata": {},
   "outputs": [
    {
     "data": {
      "text/plain": [
       "<AxesSubplot:>"
      ]
     },
     "execution_count": 75,
     "metadata": {},
     "output_type": "execute_result"
    },
    {
     "data": {
      "image/png": "[encoded data removed]",
      "text/plain": [
       "<Figure size 432x288 with 1 Axes>"
      ]
     },
     "metadata": {
      "needs_background": "light"
     },
     "output_type": "display_data"
    }
   ],
   "source": [
    "kayipVeri.plot()"
   ]
  },
  {
   "cell_type": "markdown",
   "id": "442f19a5",
   "metadata": {},
   "source": [
    "## Sonuçların doğruluğuna bakacağız ardından karşılaştıracağız doğruluğunu."
   ]
  },
  {
   "cell_type": "code",
   "execution_count": 76,
   "id": "808a36c7",
   "metadata": {},
   "outputs": [],
   "source": [
    "from sklearn.metrics import mean_squared_error, mean_absolute_error"
   ]
  },
  {
   "cell_type": "code",
   "execution_count": 77,
   "id": "0dbb3317",
   "metadata": {},
   "outputs": [],
   "source": [
    "tahmin = model.predict(x_test)"
   ]
  },
  {
   "cell_type": "code",
   "execution_count": 78,
   "id": "489d3403",
   "metadata": {},
   "outputs": [
    {
     "data": {
      "text/plain": [
       "3309.339127542959"
      ]
     },
     "execution_count": 78,
     "metadata": {},
     "output_type": "execute_result"
    }
   ],
   "source": [
    "mean_absolute_error(y_test, tahmin)"
   ]
  },
  {
   "cell_type": "code",
   "execution_count": 80,
   "id": "c5aab150",
   "metadata": {},
   "outputs": [
    {
     "data": {
      "text/plain": [
       "[<matplotlib.lines.Line2D at 0x7fd2b5087cd0>]"
      ]
     },
     "execution_count": 80,
     "metadata": {},
     "output_type": "execute_result"
    },
    {
     "data": {
      "image/png": "[encoded data removed]",
      "text/plain": [
       "<Figure size 432x288 with 1 Axes>"
      ]
     },
     "metadata": {
      "needs_background": "light"
     },
     "output_type": "display_data"
    }
   ],
   "source": [
    "plt.scatter(y_test, tahmin)\n",
    "plt.plot(y_test, y_test, \"r-*\")"
   ]
  },
  {
   "cell_type": "code",
   "execution_count": 82,
   "id": "0fbc178f",
   "metadata": {},
   "outputs": [
    {
     "data": {
      "text/plain": [
       "year           2020.0\n",
       "price         65980.0\n",
       "mileage        3999.0\n",
       "tax             145.0\n",
       "mpg              28.0\n",
       "engineSize        4.0\n",
       "Name: 3191, dtype: float64"
      ]
     },
     "execution_count": 82,
     "metadata": {},
     "output_type": "execute_result"
    }
   ],
   "source": [
    "yuzdeData.iloc[2]"
   ]
  },
  {
   "cell_type": "code",
   "execution_count": 83,
   "id": "22f92219",
   "metadata": {},
   "outputs": [],
   "source": [
    "yeniAraba = yuzdeData.drop(\"price\", axis=1).iloc[2]"
   ]
  },
  {
   "cell_type": "code",
   "execution_count": 84,
   "id": "e841c0df",
   "metadata": {},
   "outputs": [
    {
     "data": {
      "text/plain": [
       "year          2020.0\n",
       "mileage       3999.0\n",
       "tax            145.0\n",
       "mpg             28.0\n",
       "engineSize       4.0\n",
       "Name: 3191, dtype: float64"
      ]
     },
     "execution_count": 84,
     "metadata": {},
     "output_type": "execute_result"
    }
   ],
   "source": [
    "yeniAraba"
   ]
  },
  {
   "cell_type": "code",
   "execution_count": 86,
   "id": "ea1c5eae",
   "metadata": {},
   "outputs": [],
   "source": [
    "yeniAraba = scaler.transform(yeniAraba.values.reshape(-1, 5))"
   ]
  },
  {
   "cell_type": "code",
   "execution_count": 88,
   "id": "15da14bf",
   "metadata": {},
   "outputs": [
    {
     "data": {
      "text/plain": [
       "array([[62471.]], dtype=float32)"
      ]
     },
     "execution_count": 88,
     "metadata": {},
     "output_type": "execute_result"
    }
   ],
   "source": [
    "model.predict(yeniAraba)"
   ]
  },
  {
   "cell_type": "code",
   "execution_count": null,
   "id": "a9443d85",
   "metadata": {},
   "outputs": [],
   "source": []
  }
 ],
 "metadata": {
  "kernelspec": {
   "display_name": "Python 3 (ipykernel)",
   "language": "python",
   "name": "python3"
  },
  "language_info": {
   "codemirror_mode": {
    "name": "ipython",
    "version": 3
   },
   "file_extension": ".py",
   "mimetype": "text/x-python",
   "name": "python",
   "nbconvert_exporter": "python",
   "pygments_lexer": "ipython3",
   "version": "3.7.11"
  }
 },
 "nbformat": 4,
 "nbformat_minor": 5
}
